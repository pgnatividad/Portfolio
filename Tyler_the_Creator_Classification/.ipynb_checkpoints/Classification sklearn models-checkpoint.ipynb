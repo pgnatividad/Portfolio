{
 "cells": [
  {
   "cell_type": "code",
   "execution_count": 63,
   "metadata": {},
   "outputs": [],
   "source": [
    "import pandas as pd\n",
    "\n",
    "from sklearn.model_selection import GridSearchCV, train_test_split\n",
    "from sklearn.pipeline import Pipeline\n",
    "\n",
    "from sklearn.linear_model import LogisticRegression\n",
    "from sklearn.ensemble import GradientBoostingClassifier\n",
    "\n",
    "from sklearn.feature_extraction.text import CountVectorizer, TfidfVectorizer\n",
    "\n",
    "import time\n",
    "\n",
    "import warnings\n",
    "warnings.filterwarnings(\"ignore\", category=DeprecationWarning)"
   ]
  },
  {
   "cell_type": "code",
   "execution_count": 66,
   "metadata": {},
   "outputs": [],
   "source": [
    "def warn(*args, **kwargs):\n",
    "    pass\n",
    "import warnings\n",
    "warnings.warn = warn"
   ]
  },
  {
   "cell_type": "code",
   "execution_count": 2,
   "metadata": {},
   "outputs": [],
   "source": [
    "data = pd.read_csv(\"tyler.csv\")"
   ]
  },
  {
   "cell_type": "code",
   "execution_count": 3,
   "metadata": {},
   "outputs": [
    {
     "data": {
      "text/html": [
       "<div>\n",
       "<style scoped>\n",
       "    .dataframe tbody tr th:only-of-type {\n",
       "        vertical-align: middle;\n",
       "    }\n",
       "\n",
       "    .dataframe tbody tr th {\n",
       "        vertical-align: top;\n",
       "    }\n",
       "\n",
       "    .dataframe thead th {\n",
       "        text-align: right;\n",
       "    }\n",
       "</style>\n",
       "<table border=\"1\" class=\"dataframe\">\n",
       "  <thead>\n",
       "    <tr style=\"text-align: right;\">\n",
       "      <th></th>\n",
       "      <th>Unnamed: 0</th>\n",
       "      <th>neg</th>\n",
       "      <th>neu</th>\n",
       "      <th>pos</th>\n",
       "      <th>compound</th>\n",
       "      <th>lyrics</th>\n",
       "      <th>album</th>\n",
       "      <th>year</th>\n",
       "    </tr>\n",
       "  </thead>\n",
       "  <tbody>\n",
       "    <tr>\n",
       "      <th>0</th>\n",
       "      <td>0</td>\n",
       "      <td>0.230</td>\n",
       "      <td>0.643</td>\n",
       "      <td>0.127</td>\n",
       "      <td>-0.9991</td>\n",
       "      <td>This is what the devil plays before he goes to...</td>\n",
       "      <td>Bastard</td>\n",
       "      <td>2009</td>\n",
       "    </tr>\n",
       "    <tr>\n",
       "      <th>1</th>\n",
       "      <td>1</td>\n",
       "      <td>0.232</td>\n",
       "      <td>0.675</td>\n",
       "      <td>0.093</td>\n",
       "      <td>-0.9984</td>\n",
       "      <td>I'd tell him to eat a dick quicker than Mexica...</td>\n",
       "      <td>Bastard</td>\n",
       "      <td>2009</td>\n",
       "    </tr>\n",
       "    <tr>\n",
       "      <th>2</th>\n",
       "      <td>2</td>\n",
       "      <td>0.158</td>\n",
       "      <td>0.718</td>\n",
       "      <td>0.124</td>\n",
       "      <td>-0.9527</td>\n",
       "      <td>Hello, the Hype is so Mellow Bitch I'm dope an...</td>\n",
       "      <td>Bastard</td>\n",
       "      <td>2009</td>\n",
       "    </tr>\n",
       "    <tr>\n",
       "      <th>3</th>\n",
       "      <td>3</td>\n",
       "      <td>0.196</td>\n",
       "      <td>0.696</td>\n",
       "      <td>0.108</td>\n",
       "      <td>-0.9970</td>\n",
       "      <td>Got all the black bitches mad cause my main bi...</td>\n",
       "      <td>Bastard</td>\n",
       "      <td>2009</td>\n",
       "    </tr>\n",
       "    <tr>\n",
       "      <th>4</th>\n",
       "      <td>4</td>\n",
       "      <td>0.207</td>\n",
       "      <td>0.658</td>\n",
       "      <td>0.136</td>\n",
       "      <td>-0.9948</td>\n",
       "      <td>If this was a game I already know that I would...</td>\n",
       "      <td>Bastard</td>\n",
       "      <td>2009</td>\n",
       "    </tr>\n",
       "  </tbody>\n",
       "</table>\n",
       "</div>"
      ],
      "text/plain": [
       "   Unnamed: 0    neg    neu    pos  compound  \\\n",
       "0           0  0.230  0.643  0.127   -0.9991   \n",
       "1           1  0.232  0.675  0.093   -0.9984   \n",
       "2           2  0.158  0.718  0.124   -0.9527   \n",
       "3           3  0.196  0.696  0.108   -0.9970   \n",
       "4           4  0.207  0.658  0.136   -0.9948   \n",
       "\n",
       "                                              lyrics    album  year  \n",
       "0  This is what the devil plays before he goes to...  Bastard  2009  \n",
       "1  I'd tell him to eat a dick quicker than Mexica...  Bastard  2009  \n",
       "2  Hello, the Hype is so Mellow Bitch I'm dope an...  Bastard  2009  \n",
       "3  Got all the black bitches mad cause my main bi...  Bastard  2009  \n",
       "4  If this was a game I already know that I would...  Bastard  2009  "
      ]
     },
     "execution_count": 3,
     "metadata": {},
     "output_type": "execute_result"
    }
   ],
   "source": [
    "data.head()"
   ]
  },
  {
   "cell_type": "code",
   "execution_count": 5,
   "metadata": {},
   "outputs": [],
   "source": [
    "data=data[['lyrics','album','year']]"
   ]
  },
  {
   "cell_type": "code",
   "execution_count": 7,
   "metadata": {},
   "outputs": [
    {
     "data": {
      "text/html": [
       "<div>\n",
       "<style scoped>\n",
       "    .dataframe tbody tr th:only-of-type {\n",
       "        vertical-align: middle;\n",
       "    }\n",
       "\n",
       "    .dataframe tbody tr th {\n",
       "        vertical-align: top;\n",
       "    }\n",
       "\n",
       "    .dataframe thead th {\n",
       "        text-align: right;\n",
       "    }\n",
       "</style>\n",
       "<table border=\"1\" class=\"dataframe\">\n",
       "  <thead>\n",
       "    <tr style=\"text-align: right;\">\n",
       "      <th></th>\n",
       "      <th>lyrics</th>\n",
       "      <th>album</th>\n",
       "      <th>year</th>\n",
       "    </tr>\n",
       "  </thead>\n",
       "  <tbody>\n",
       "    <tr>\n",
       "      <th>0</th>\n",
       "      <td>This is what the devil plays before he goes to...</td>\n",
       "      <td>Bastard</td>\n",
       "      <td>2009</td>\n",
       "    </tr>\n",
       "    <tr>\n",
       "      <th>1</th>\n",
       "      <td>I'd tell him to eat a dick quicker than Mexica...</td>\n",
       "      <td>Bastard</td>\n",
       "      <td>2009</td>\n",
       "    </tr>\n",
       "    <tr>\n",
       "      <th>2</th>\n",
       "      <td>Hello, the Hype is so Mellow Bitch I'm dope an...</td>\n",
       "      <td>Bastard</td>\n",
       "      <td>2009</td>\n",
       "    </tr>\n",
       "    <tr>\n",
       "      <th>3</th>\n",
       "      <td>Got all the black bitches mad cause my main bi...</td>\n",
       "      <td>Bastard</td>\n",
       "      <td>2009</td>\n",
       "    </tr>\n",
       "    <tr>\n",
       "      <th>4</th>\n",
       "      <td>If this was a game I already know that I would...</td>\n",
       "      <td>Bastard</td>\n",
       "      <td>2009</td>\n",
       "    </tr>\n",
       "  </tbody>\n",
       "</table>\n",
       "</div>"
      ],
      "text/plain": [
       "                                              lyrics    album  year\n",
       "0  This is what the devil plays before he goes to...  Bastard  2009\n",
       "1  I'd tell him to eat a dick quicker than Mexica...  Bastard  2009\n",
       "2  Hello, the Hype is so Mellow Bitch I'm dope an...  Bastard  2009\n",
       "3  Got all the black bitches mad cause my main bi...  Bastard  2009\n",
       "4  If this was a game I already know that I would...  Bastard  2009"
      ]
     },
     "execution_count": 7,
     "metadata": {},
     "output_type": "execute_result"
    }
   ],
   "source": [
    "data.head()"
   ]
  },
  {
   "cell_type": "code",
   "execution_count": 25,
   "metadata": {},
   "outputs": [],
   "source": [
    "X = data['lyrics']\n",
    "y= data['album']"
   ]
  },
  {
   "cell_type": "code",
   "execution_count": 92,
   "metadata": {},
   "outputs": [],
   "source": [
    "X_train, X_test, y_train, y_test = train_test_split(X,y,test_size=.1,random_state=13)"
   ]
  },
  {
   "cell_type": "code",
   "execution_count": 70,
   "metadata": {},
   "outputs": [],
   "source": [
    "cv_pipe_log = Pipeline(\n",
    "    [\n",
    "        ('cvec',CountVectorizer()),\n",
    "        ('logreg', LogisticRegression(n_jobs=-1))\n",
    "    ]\n",
    ")\n",
    "\n",
    "tv_pipe_log = Pipeline(\n",
    "    [\n",
    "        ('tvec', TfidfVectorizer()),\n",
    "        ('logreg',LogisticRegression(n_jobs=-1))\n",
    "    ]\n",
    ")"
   ]
  },
  {
   "cell_type": "code",
   "execution_count": 71,
   "metadata": {},
   "outputs": [],
   "source": [
    "cv_pipe_log_params ={\n",
    "    'cvec__max_features':[4000,3000,5000],\n",
    "    'cvec__ngram_range':[(1,1),(1,2)],\n",
    "    'logreg__penalty': ['l1','l2'],\n",
    "    'logreg__C':[.005,.01,.25]\n",
    "}\n",
    "\n",
    "tv_pipe_log_params ={\n",
    "    'tvec__max_features':[3000,4000,5000],\n",
    "    'tvec__ngram_range':[(1,1),(1,2)],\n",
    "    'logreg__penalty': ['l1','l2'],\n",
    "    'logreg__C':[.005,.25,.01]\n",
    "}"
   ]
  },
  {
   "cell_type": "code",
   "execution_count": 72,
   "metadata": {},
   "outputs": [
    {
     "data": {
      "text/plain": [
       "Wolf           0.200000\n",
       "Goblin         0.188889\n",
       "Bastard        0.166667\n",
       "Cherry Bomb    0.166667\n",
       "Flower Boy     0.144444\n",
       "IGOR           0.133333\n",
       "Name: album, dtype: float64"
      ]
     },
     "execution_count": 72,
     "metadata": {},
     "output_type": "execute_result"
    }
   ],
   "source": [
    "data['album'].value_counts(normalize=True)"
   ]
  },
  {
   "cell_type": "code",
   "execution_count": 73,
   "metadata": {},
   "outputs": [
    {
     "name": "stdout",
     "output_type": "stream",
     "text": [
      "6.359632253646851\n",
      "0.5074626865671642\n"
     ]
    },
    {
     "data": {
      "text/plain": [
       "{'cvec__max_features': 4000,\n",
       " 'cvec__ngram_range': (1, 2),\n",
       " 'logreg__C': 0.25,\n",
       " 'logreg__penalty': 'l2'}"
      ]
     },
     "execution_count": 73,
     "metadata": {},
     "output_type": "execute_result"
    }
   ],
   "source": [
    "t0=time.time()\n",
    "gs = GridSearchCV(cv_pipe_log, param_grid=cv_pipe_log_params, cv=3)\n",
    "gs.fit(X_train, y_train)\n",
    "print(time.time()-t0)\n",
    "print(gs.best_score_)\n",
    "gs.best_params_"
   ]
  },
  {
   "cell_type": "code",
   "execution_count": 74,
   "metadata": {},
   "outputs": [
    {
     "name": "stdout",
     "output_type": "stream",
     "text": [
      "0.3283582089552239\n",
      "5.710633993148804\n"
     ]
    },
    {
     "data": {
      "text/plain": [
       "{'logreg__C': 0.25,\n",
       " 'logreg__penalty': 'l2',\n",
       " 'tvec__max_features': 3000,\n",
       " 'tvec__ngram_range': (1, 1)}"
      ]
     },
     "execution_count": 74,
     "metadata": {},
     "output_type": "execute_result"
    }
   ],
   "source": [
    "t0=time.time()\n",
    "gs = GridSearchCV(tv_pipe_log, param_grid=tv_pipe_log_params, cv=3)\n",
    "gs.fit(X_train, y_train)\n",
    "print(gs.best_score_)\n",
    "print(time.time()-t0)\n",
    "gs.best_params_"
   ]
  },
  {
   "cell_type": "code",
   "execution_count": 75,
   "metadata": {},
   "outputs": [],
   "source": [
    "cv_pipe_gb = Pipeline(\n",
    "    [\n",
    "        ('cvec',CountVectorizer()),\n",
    "        ('gb', GradientBoostingClassifier())\n",
    "    ]\n",
    ")\n",
    "\n",
    "tv_pipe_gb = Pipeline(\n",
    "    [\n",
    "        ('tvec', TfidfVectorizer()),\n",
    "        ('gb', GradientBoostingClassifier())\n",
    "    ]\n",
    ")"
   ]
  },
  {
   "cell_type": "code",
   "execution_count": null,
   "metadata": {},
   "outputs": [],
   "source": [
    "GradientBoostingClassifier()"
   ]
  },
  {
   "cell_type": "code",
   "execution_count": 110,
   "metadata": {},
   "outputs": [],
   "source": [
    "cv_pipe_gb_params ={\n",
    "    'cvec__max_features':[4000,5000],\n",
    "    'cvec__ngram_range':[(1,1),(1,2)],\n",
    "    'gb__learning_rate':[.1,0.25],\n",
    "    'gb__n_estimators':[100,300],\n",
    "    'gb__max_depth':[3,5]\n",
    "\n",
    "}\n",
    "\n",
    "tv_pipe_gb_params ={\n",
    "    'tvec__max_features':[5000,10000,15000],\n",
    "    'tvec__ngram_range':[(1,1),(1,2)],\n",
    "    'gb__learning_rate':[.1,0.5,2],\n",
    "    'gb__n_estimators':[100,300],\n",
    "    'gb__max_depth':[3,5]\n",
    "\n",
    "}"
   ]
  },
  {
   "cell_type": "code",
   "execution_count": 111,
   "metadata": {},
   "outputs": [
    {
     "name": "stdout",
     "output_type": "stream",
     "text": [
      "0.43283582089552236\n",
      "142.9311900138855\n"
     ]
    },
    {
     "data": {
      "text/plain": [
       "{'cvec__max_features': 4000,\n",
       " 'cvec__ngram_range': (1, 1),\n",
       " 'gb__learning_rate': 0.25,\n",
       " 'gb__max_depth': 3,\n",
       " 'gb__n_estimators': 100}"
      ]
     },
     "execution_count": 111,
     "metadata": {},
     "output_type": "execute_result"
    }
   ],
   "source": [
    "t0=time.time()\n",
    "gs = GridSearchCV(cv_pipe_gb, param_grid=cv_pipe_gb_params, cv=4)\n",
    "gs.fit(X_train, y_train)\n",
    "print(gs.best_score_)\n",
    "print(time.time()-t0)\n",
    "gs.best_params_"
   ]
  },
  {
   "cell_type": "code",
   "execution_count": 112,
   "metadata": {},
   "outputs": [
    {
     "name": "stdout",
     "output_type": "stream",
     "text": [
      "0.373134328358209\n",
      "320.99049186706543\n"
     ]
    },
    {
     "data": {
      "text/plain": [
       "{'gb__learning_rate': 0.1,\n",
       " 'gb__max_depth': 3,\n",
       " 'gb__n_estimators': 300,\n",
       " 'tvec__max_features': 10000,\n",
       " 'tvec__ngram_range': (1, 2)}"
      ]
     },
     "execution_count": 112,
     "metadata": {},
     "output_type": "execute_result"
    }
   ],
   "source": [
    "t0=time.time()\n",
    "gs = GridSearchCV(tv_pipe_gb, param_grid=tv_pipe_gb_params, cv=4)\n",
    "gs.fit(X_train, y_train)\n",
    "print(gs.best_score_)\n",
    "print(time.time()-t0)\n",
    "gs.best_params_"
   ]
  },
  {
   "cell_type": "code",
   "execution_count": 76,
   "metadata": {},
   "outputs": [],
   "source": [
    "cvec =CountVectorizer(max_features=4000,ngram_range=(1,2))\n",
    "logreg = LogisticRegression(C=0.25,penalty='l2')"
   ]
  },
  {
   "cell_type": "code",
   "execution_count": 77,
   "metadata": {},
   "outputs": [],
   "source": [
    "# {'cvec__max_features': 4000,\n",
    "#  'cvec__ngram_range': (1, 2),\n",
    "#  'logreg__C': 0.25,\n",
    "#  'logreg__penalty': 'l2'}"
   ]
  },
  {
   "cell_type": "code",
   "execution_count": 78,
   "metadata": {},
   "outputs": [
    {
     "data": {
      "text/plain": [
       "0.30434782608695654"
      ]
     },
     "execution_count": 78,
     "metadata": {},
     "output_type": "execute_result"
    }
   ],
   "source": [
    "X_train_tf = cvec.fit_transform(X_train)\n",
    "X_test_tf = cvec.transform(X_test)\n",
    "logreg.fit(X_train_tf,y_train)\n",
    "logreg.score(X_test_tf,y_test)"
   ]
  },
  {
   "cell_type": "code",
   "execution_count": 106,
   "metadata": {},
   "outputs": [],
   "source": [
    "X_train, X_test, y_train, y_test = train_test_split(X,y,test_size=.25,random_state=13)"
   ]
  },
  {
   "cell_type": "code",
   "execution_count": 107,
   "metadata": {},
   "outputs": [],
   "source": [
    "cvec =CountVectorizer()\n",
    "gb = GradientBoostingClassifier(random_state=13)"
   ]
  },
  {
   "cell_type": "code",
   "execution_count": 108,
   "metadata": {},
   "outputs": [
    {
     "data": {
      "text/plain": [
       "0.4782608695652174"
      ]
     },
     "execution_count": 108,
     "metadata": {},
     "output_type": "execute_result"
    }
   ],
   "source": [
    "X_train_tf = cvec.fit_transform(X_train)\n",
    "X_test_tf = cvec.transform(X_test)\n",
    "gb.fit(X_train_tf,y_train)\n",
    "gb.score(X_test_tf,y_test)"
   ]
  },
  {
   "cell_type": "code",
   "execution_count": 109,
   "metadata": {},
   "outputs": [
    {
     "data": {
      "text/plain": [
       "0.391304347826087"
      ]
     },
     "execution_count": 109,
     "metadata": {},
     "output_type": "execute_result"
    }
   ],
   "source": [
    "tvec = TfidfVectorizer()\n",
    "gb = GradientBoostingClassifier(random_state=13)\n",
    "X_train_tf = tvec.fit_transform(X_train)\n",
    "X_test_tf = tvec.transform(X_test)\n",
    "gb.fit(X_train_tf,y_train)\n",
    "gb.score(X_test_tf,y_test)"
   ]
  },
  {
   "cell_type": "code",
   "execution_count": null,
   "metadata": {},
   "outputs": [],
   "source": []
  }
 ],
 "metadata": {
  "kernelspec": {
   "display_name": "Python 3",
   "language": "python",
   "name": "python3"
  },
  "language_info": {
   "codemirror_mode": {
    "name": "ipython",
    "version": 3
   },
   "file_extension": ".py",
   "mimetype": "text/x-python",
   "name": "python",
   "nbconvert_exporter": "python",
   "pygments_lexer": "ipython3",
   "version": "3.6.9"
  }
 },
 "nbformat": 4,
 "nbformat_minor": 2
}
