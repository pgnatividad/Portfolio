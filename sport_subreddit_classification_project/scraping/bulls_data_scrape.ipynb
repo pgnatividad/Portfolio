{
 "cells": [
  {
   "cell_type": "code",
   "execution_count": 1,
   "metadata": {},
   "outputs": [],
   "source": [
    "import pandas as pd\n",
    "import praw\n",
    "import datetime as dt\n",
    "from psaw import PushshiftAPI\n",
    "import time"
   ]
  },
  {
   "cell_type": "code",
   "execution_count": 2,
   "metadata": {},
   "outputs": [],
   "source": [
    "reddit = praw.Reddit(client_id = '',     #this is that personal use script key\n",
    "                     client_secret = '', #this is that secret key\n",
    "                     user_agent = '',    #Whatever name you gave your application\n",
    "                     username = '',      #your Reddit user name\n",
    "                     password = '')      #your Reddit password"
   ]
  },
  {
   "cell_type": "code",
   "execution_count": 3,
   "metadata": {},
   "outputs": [],
   "source": [
    "api = PushshiftAPI(reddit)"
   ]
  },
  {
   "cell_type": "code",
   "execution_count": 4,
   "metadata": {},
   "outputs": [],
   "source": [
    "#creating time spans\n",
    "three_yrs_ago = int(dt.datetime(2016,6,12).timestamp())\n",
    "two_yrs_ago= int(dt.datetime(2017,6,12).timestamp())\n",
    "one_yr_ago= int(dt.datetime(2018,6,12).timestamp())\n",
    "zero_yr_ago = int(dt.datetime(2019,7,3).timestamp())"
   ]
  },
  {
   "cell_type": "code",
   "execution_count": 5,
   "metadata": {},
   "outputs": [],
   "source": [
    "#bulls content 3 years ago, 7k limit, 1 comment minimum\n",
    "\n",
    "#bulls 1com starts\n",
    "bc_3yrs_1com = []\n",
    "\n",
    "counter = 0\n",
    "for i in api.search_submissions(after=three_yrs_ago,before=two_yrs_ago,\n",
    "                      subreddit='chicagobulls',\n",
    "                      limit=7000):\n",
    "    if counter %1000 ==0:\n",
    "        time.sleep(3)\n",
    "    if i.num_comments>=1:\n",
    "        dic = {}\n",
    "        dic['num_comments']=i.num_comments\n",
    "        dic['title'] = i.title\n",
    "        dic[\"url\"] = i.url\n",
    "        dic['body']=i.selftext\n",
    "        dic['score']=i.score\n",
    "        dic['body+title'] = i.title+\" \"+i.selftext\n",
    "        bc_3yrs_1com.append(dic)\n",
    "        counter +=1\n",
    "    \n",
    "    \n",
    "\n",
    "bc_3yrs_1com_df=pd.DataFrame(bc_3yrs_1com)"
   ]
  },
  {
   "cell_type": "code",
   "execution_count": 6,
   "metadata": {},
   "outputs": [],
   "source": [
    "bc_2yrs_1com = []\n",
    "\n",
    "counter = 0\n",
    "for i in api.search_submissions(after=two_yrs_ago,before=one_yr_ago,\n",
    "                      subreddit='chicagobulls',\n",
    "                      limit=7000):\n",
    "    if counter %1000 ==0:\n",
    "        time.sleep(3)\n",
    "    if i.num_comments>=1:\n",
    "        dic = {}\n",
    "        dic['num_comments']=i.num_comments\n",
    "        dic['title'] = i.title\n",
    "        dic[\"url\"] = i.url\n",
    "        dic['body']=i.selftext\n",
    "        dic['score']=i.score\n",
    "        dic['body+title'] = i.title+\" \"+i.selftext\n",
    "        bc_2yrs_1com.append(dic)\n",
    "        counter +=1\n",
    "    \n",
    "    \n",
    "\n",
    "bc_2yrs_1com_df=pd.DataFrame(bc_2yrs_1com)"
   ]
  },
  {
   "cell_type": "code",
   "execution_count": 7,
   "metadata": {},
   "outputs": [],
   "source": [
    "bc_1yrs_1com = []\n",
    "\n",
    "counter = 0\n",
    "for i in api.search_submissions(after=one_yr_ago,before=zero_yr_ago,\n",
    "                      subreddit='chicagobulls',\n",
    "                      limit=7000):\n",
    "    if counter %1000 ==0:\n",
    "        time.sleep(3)\n",
    "    if i.num_comments>=1:\n",
    "        dic = {}\n",
    "        dic['num_comments']=i.num_comments\n",
    "        dic['title'] = i.title\n",
    "        dic[\"url\"] = i.url\n",
    "        dic['body']=i.selftext\n",
    "        dic['score']=i.score\n",
    "        dic['body+title'] = i.title+\" \"+i.selftext\n",
    "        bc_1yrs_1com.append(dic)\n",
    "        counter +=1\n",
    "    \n",
    "    \n",
    "\n",
    "bc_1yrs_1com_df=pd.DataFrame(bc_1yrs_1com)"
   ]
  },
  {
   "cell_type": "code",
   "execution_count": null,
   "metadata": {},
   "outputs": [],
   "source": [
    "#4 comment scraping"
   ]
  },
  {
   "cell_type": "code",
   "execution_count": 8,
   "metadata": {},
   "outputs": [],
   "source": [
    "bc_3yrs_4com = []\n",
    "\n",
    "counter = 0\n",
    "for i in api.search_submissions(after=three_yrs_ago,before=two_yrs_ago,\n",
    "                      subreddit='chicagobulls',\n",
    "                      limit=7000):\n",
    "    if counter %1000 ==0:\n",
    "        time.sleep(3)\n",
    "    if i.num_comments>=4:\n",
    "        dic = {}\n",
    "        dic['num_comments']=i.num_comments\n",
    "        dic['title'] = i.title\n",
    "        dic[\"url\"] = i.url\n",
    "        dic['body']=i.selftext\n",
    "        dic['score']=i.score\n",
    "        dic['body+title'] = i.title+\" \"+i.selftext\n",
    "        bc_3yrs_4com.append(dic)\n",
    "        counter +=1\n",
    "    \n",
    "    \n",
    "\n",
    "bc_3yrs_4com_df=pd.DataFrame(bc_3yrs_4com)"
   ]
  },
  {
   "cell_type": "code",
   "execution_count": 9,
   "metadata": {},
   "outputs": [],
   "source": [
    "bc_2yrs_4com = []\n",
    "\n",
    "counter = 0\n",
    "for i in api.search_submissions(after=two_yrs_ago,before=one_yr_ago,\n",
    "                      subreddit='chicagobulls',\n",
    "                      limit=7000):\n",
    "    if counter %1000 ==0:\n",
    "        time.sleep(3)\n",
    "    if i.num_comments>=4:\n",
    "        dic = {}\n",
    "        dic['num_comments']=i.num_comments\n",
    "        dic['title'] = i.title\n",
    "        dic[\"url\"] = i.url\n",
    "        dic['body']=i.selftext\n",
    "        dic['score']=i.score\n",
    "        dic['body+title'] = i.title+\" \"+i.selftext\n",
    "        bc_2yrs_4com.append(dic)\n",
    "        counter +=1\n",
    "    \n",
    "    \n",
    "\n",
    "bc_2yrs_4com_df=pd.DataFrame(bc_2yrs_4com)"
   ]
  },
  {
   "cell_type": "code",
   "execution_count": 10,
   "metadata": {},
   "outputs": [],
   "source": [
    "bc_1yrs_4com = []\n",
    "\n",
    "counter = 0\n",
    "for i in api.search_submissions(after=one_yr_ago,before=zero_yr_ago,\n",
    "                      subreddit='chicagobulls',\n",
    "                      limit=7000):\n",
    "    if counter %1000 ==0:\n",
    "        time.sleep(3)\n",
    "    if i.num_comments>=4:\n",
    "        dic = {}\n",
    "        dic['num_comments']=i.num_comments\n",
    "        dic['title'] = i.title\n",
    "        dic[\"url\"] = i.url\n",
    "        dic['body']=i.selftext\n",
    "        dic['score']=i.score\n",
    "        dic['body+title'] = i.title+\" \"+i.selftext\n",
    "        bc_1yrs_4com.append(dic)\n",
    "        counter +=1\n",
    "    \n",
    "    \n",
    "\n",
    "bc_1yrs_4com_df=pd.DataFrame(bc_1yrs_4com)"
   ]
  },
  {
   "cell_type": "code",
   "execution_count": 11,
   "metadata": {},
   "outputs": [],
   "source": [
    "bc_1yrs_1com_df.to_csv(\"datasets/bulls/bc_1yrs_1com.csv\",index=False)\n",
    "bc_2yrs_1com_df.to_csv(\"datasets/bulls/bc_2yrs_1com.csv\",index=False)\n",
    "bc_3yrs_1com_df.to_csv(\"datasets/bulls/bc_3yrs_1com.csv\",index=False)"
   ]
  },
  {
   "cell_type": "code",
   "execution_count": 12,
   "metadata": {},
   "outputs": [],
   "source": [
    "bc_1yrs_4com_df.to_csv(\"datasets/bulls/bc_1yrs_4com.csv\",index=False)\n",
    "bc_2yrs_4com_df.to_csv(\"datasets/bulls/bc_2yrs_4com.csv\",index=False)\n",
    "bc_3yrs_4com_df.to_csv(\"datasets/bulls/bc_3yrs_4com.csv\",index=False)"
   ]
  },
  {
   "cell_type": "code",
   "execution_count": 13,
   "metadata": {},
   "outputs": [
    {
     "name": "stdout",
     "output_type": "stream",
     "text": [
      "(4878, 6)\n",
      "(4994, 6)\n",
      "(4848, 6)\n"
     ]
    }
   ],
   "source": [
    "print(bc_1yrs_1com_df.shape)\n",
    "print(bc_2yrs_1com_df.shape)\n",
    "print(bc_3yrs_1com_df.shape)"
   ]
  },
  {
   "cell_type": "code",
   "execution_count": 14,
   "metadata": {},
   "outputs": [
    {
     "name": "stdout",
     "output_type": "stream",
     "text": [
      "(3906, 6)\n",
      "(4266, 6)\n",
      "(3719, 6)\n"
     ]
    }
   ],
   "source": [
    "print(bc_1yrs_4com_df.shape)\n",
    "print(bc_2yrs_4com_df.shape)\n",
    "print(bc_3yrs_4com_df.shape)"
   ]
  },
  {
   "cell_type": "code",
   "execution_count": 16,
   "metadata": {},
   "outputs": [
    {
     "data": {
      "text/html": [
       "<div>\n",
       "<style scoped>\n",
       "    .dataframe tbody tr th:only-of-type {\n",
       "        vertical-align: middle;\n",
       "    }\n",
       "\n",
       "    .dataframe tbody tr th {\n",
       "        vertical-align: top;\n",
       "    }\n",
       "\n",
       "    .dataframe thead th {\n",
       "        text-align: right;\n",
       "    }\n",
       "</style>\n",
       "<table border=\"1\" class=\"dataframe\">\n",
       "  <thead>\n",
       "    <tr style=\"text-align: right;\">\n",
       "      <th></th>\n",
       "      <th>body</th>\n",
       "      <th>body+title</th>\n",
       "      <th>num_comments</th>\n",
       "      <th>score</th>\n",
       "      <th>title</th>\n",
       "      <th>url</th>\n",
       "    </tr>\n",
       "  </thead>\n",
       "  <tbody>\n",
       "    <tr>\n",
       "      <th>0</th>\n",
       "      <td></td>\n",
       "      <td>Sources: Jaren Jackson Jr., had a monster work...</td>\n",
       "      <td>17</td>\n",
       "      <td>24</td>\n",
       "      <td>Sources: Jaren Jackson Jr., had a monster work...</td>\n",
       "      <td>https://twitter.com/wojespn/status/10063401293...</td>\n",
       "    </tr>\n",
       "    <tr>\n",
       "      <th>1</th>\n",
       "      <td></td>\n",
       "      <td>Update on Rodman at Summit: “Dennis Rodman is ...</td>\n",
       "      <td>16</td>\n",
       "      <td>139</td>\n",
       "      <td>Update on Rodman at Summit: “Dennis Rodman is ...</td>\n",
       "      <td>https://twitter.com/BarstoolNewsN/status/10063...</td>\n",
       "    </tr>\n",
       "    <tr>\n",
       "      <th>2</th>\n",
       "      <td>Say the starting lineup for the Bulls next yea...</td>\n",
       "      <td>How many wins for this team? Say the starting ...</td>\n",
       "      <td>60</td>\n",
       "      <td>6</td>\n",
       "      <td>How many wins for this team?</td>\n",
       "      <td>https://www.reddit.com/r/chicagobulls/comments...</td>\n",
       "    </tr>\n",
       "    <tr>\n",
       "      <th>3</th>\n",
       "      <td></td>\n",
       "      <td>A Brief Look At What Chicago Could Do Given Th...</td>\n",
       "      <td>23</td>\n",
       "      <td>7</td>\n",
       "      <td>A Brief Look At What Chicago Could Do Given Th...</td>\n",
       "      <td>http://www.bernieschitownsports.com/chicago-bu...</td>\n",
       "    </tr>\n",
       "    <tr>\n",
       "      <th>4</th>\n",
       "      <td></td>\n",
       "      <td>Hopefully he’ll be back on June 21st</td>\n",
       "      <td>29</td>\n",
       "      <td>60</td>\n",
       "      <td>Hopefully he’ll be back on June 21st</td>\n",
       "      <td>https://i.redd.it/c34fc7y8cg311.jpg</td>\n",
       "    </tr>\n",
       "  </tbody>\n",
       "</table>\n",
       "</div>"
      ],
      "text/plain": [
       "                                                body  \\\n",
       "0                                                      \n",
       "1                                                      \n",
       "2  Say the starting lineup for the Bulls next yea...   \n",
       "3                                                      \n",
       "4                                                      \n",
       "\n",
       "                                          body+title  num_comments  score  \\\n",
       "0  Sources: Jaren Jackson Jr., had a monster work...            17     24   \n",
       "1  Update on Rodman at Summit: “Dennis Rodman is ...            16    139   \n",
       "2  How many wins for this team? Say the starting ...            60      6   \n",
       "3  A Brief Look At What Chicago Could Do Given Th...            23      7   \n",
       "4              Hopefully he’ll be back on June 21st             29     60   \n",
       "\n",
       "                                               title  \\\n",
       "0  Sources: Jaren Jackson Jr., had a monster work...   \n",
       "1  Update on Rodman at Summit: “Dennis Rodman is ...   \n",
       "2                       How many wins for this team?   \n",
       "3  A Brief Look At What Chicago Could Do Given Th...   \n",
       "4               Hopefully he’ll be back on June 21st   \n",
       "\n",
       "                                                 url  \n",
       "0  https://twitter.com/wojespn/status/10063401293...  \n",
       "1  https://twitter.com/BarstoolNewsN/status/10063...  \n",
       "2  https://www.reddit.com/r/chicagobulls/comments...  \n",
       "3  http://www.bernieschitownsports.com/chicago-bu...  \n",
       "4                https://i.redd.it/c34fc7y8cg311.jpg  "
      ]
     },
     "execution_count": 16,
     "metadata": {},
     "output_type": "execute_result"
    }
   ],
   "source": [
    "bc_2yrs_4com_df.head()"
   ]
  },
  {
   "cell_type": "code",
   "execution_count": 18,
   "metadata": {},
   "outputs": [
    {
     "data": {
      "text/html": [
       "<div>\n",
       "<style scoped>\n",
       "    .dataframe tbody tr th:only-of-type {\n",
       "        vertical-align: middle;\n",
       "    }\n",
       "\n",
       "    .dataframe tbody tr th {\n",
       "        vertical-align: top;\n",
       "    }\n",
       "\n",
       "    .dataframe thead th {\n",
       "        text-align: right;\n",
       "    }\n",
       "</style>\n",
       "<table border=\"1\" class=\"dataframe\">\n",
       "  <thead>\n",
       "    <tr style=\"text-align: right;\">\n",
       "      <th></th>\n",
       "      <th>body</th>\n",
       "      <th>body+title</th>\n",
       "      <th>num_comments</th>\n",
       "      <th>score</th>\n",
       "      <th>title</th>\n",
       "      <th>url</th>\n",
       "    </tr>\n",
       "  </thead>\n",
       "  <tbody>\n",
       "    <tr>\n",
       "      <th>0</th>\n",
       "      <td></td>\n",
       "      <td>Dwyane Wade Reportedly Met with Bulls Manageme...</td>\n",
       "      <td>16</td>\n",
       "      <td>49</td>\n",
       "      <td>Dwyane Wade Reportedly Met with Bulls Manageme...</td>\n",
       "      <td>http://bleacherreport.com/articles/2715068-dwy...</td>\n",
       "    </tr>\n",
       "    <tr>\n",
       "      <th>1</th>\n",
       "      <td>[deleted]</td>\n",
       "      <td>Thoughts on a Jimmy Butler trade to the Suns? ...</td>\n",
       "      <td>42</td>\n",
       "      <td>2</td>\n",
       "      <td>Thoughts on a Jimmy Butler trade to the Suns?</td>\n",
       "      <td>https://www.reddit.com/r/chicagobulls/comments...</td>\n",
       "    </tr>\n",
       "    <tr>\n",
       "      <th>2</th>\n",
       "      <td></td>\n",
       "      <td>OBSESSION: Michael Jordan's Flu Game 20th Year...</td>\n",
       "      <td>3</td>\n",
       "      <td>69</td>\n",
       "      <td>OBSESSION: Michael Jordan's Flu Game 20th Year...</td>\n",
       "      <td>https://www.youtube.com/watch?v=Z_SdEr1uGGI</td>\n",
       "    </tr>\n",
       "    <tr>\n",
       "      <th>3</th>\n",
       "      <td>I borrowed a Samsung VR headset from a colleag...</td>\n",
       "      <td>Bulls Raps game feb 14th in VR for free I borr...</td>\n",
       "      <td>4</td>\n",
       "      <td>16</td>\n",
       "      <td>Bulls Raps game feb 14th in VR for free</td>\n",
       "      <td>https://www.reddit.com/r/chicagobulls/comments...</td>\n",
       "    </tr>\n",
       "    <tr>\n",
       "      <th>4</th>\n",
       "      <td>[deleted]</td>\n",
       "      <td>1995-96 Bulls vs. this season's Warriors: Come...</td>\n",
       "      <td>6</td>\n",
       "      <td>18</td>\n",
       "      <td>1995-96 Bulls vs. this season's Warriors: Come...</td>\n",
       "      <td>http://www.chicagotribune.com/sports/columnist...</td>\n",
       "    </tr>\n",
       "  </tbody>\n",
       "</table>\n",
       "</div>"
      ],
      "text/plain": [
       "                                                body  \\\n",
       "0                                                      \n",
       "1                                          [deleted]   \n",
       "2                                                      \n",
       "3  I borrowed a Samsung VR headset from a colleag...   \n",
       "4                                          [deleted]   \n",
       "\n",
       "                                          body+title  num_comments  score  \\\n",
       "0  Dwyane Wade Reportedly Met with Bulls Manageme...            16     49   \n",
       "1  Thoughts on a Jimmy Butler trade to the Suns? ...            42      2   \n",
       "2  OBSESSION: Michael Jordan's Flu Game 20th Year...             3     69   \n",
       "3  Bulls Raps game feb 14th in VR for free I borr...             4     16   \n",
       "4  1995-96 Bulls vs. this season's Warriors: Come...             6     18   \n",
       "\n",
       "                                               title  \\\n",
       "0  Dwyane Wade Reportedly Met with Bulls Manageme...   \n",
       "1      Thoughts on a Jimmy Butler trade to the Suns?   \n",
       "2  OBSESSION: Michael Jordan's Flu Game 20th Year...   \n",
       "3            Bulls Raps game feb 14th in VR for free   \n",
       "4  1995-96 Bulls vs. this season's Warriors: Come...   \n",
       "\n",
       "                                                 url  \n",
       "0  http://bleacherreport.com/articles/2715068-dwy...  \n",
       "1  https://www.reddit.com/r/chicagobulls/comments...  \n",
       "2        https://www.youtube.com/watch?v=Z_SdEr1uGGI  \n",
       "3  https://www.reddit.com/r/chicagobulls/comments...  \n",
       "4  http://www.chicagotribune.com/sports/columnist...  "
      ]
     },
     "execution_count": 18,
     "metadata": {},
     "output_type": "execute_result"
    }
   ],
   "source": [
    "bc_3yrs_1com_df.head()"
   ]
  },
  {
   "cell_type": "code",
   "execution_count": 6,
   "metadata": {},
   "outputs": [],
   "source": [
    "#10 comments\n",
    "bc_3yrs_10com = []\n",
    "\n",
    "counter = 0\n",
    "for i in api.search_submissions(after=three_yrs_ago,before=two_yrs_ago,\n",
    "                      subreddit='chicagobulls',\n",
    "                      limit=7000):\n",
    "    if counter %1000 ==0:\n",
    "        time.sleep(5)\n",
    "    if i.num_comments>=10:\n",
    "        dic = {}\n",
    "        dic['num_comments']=i.num_comments\n",
    "        dic['title'] = i.title\n",
    "        dic[\"url\"] = i.url\n",
    "        dic['body']=i.selftext\n",
    "        dic['score']=i.score\n",
    "        dic['body+title'] = i.title+\" \"+i.selftext\n",
    "        bc_3yrs_10com.append(dic)\n",
    "        counter +=1\n",
    "    \n",
    "    \n",
    "\n",
    "bc_3yrs_10com_df=pd.DataFrame(bc_3yrs_10com)"
   ]
  },
  {
   "cell_type": "code",
   "execution_count": 7,
   "metadata": {},
   "outputs": [],
   "source": [
    "bc_2yrs_10com = []\n",
    "\n",
    "counter = 0\n",
    "for i in api.search_submissions(after=two_yrs_ago,before=one_yr_ago,\n",
    "                      subreddit='chicagobulls',\n",
    "                      limit=7000):\n",
    "    if counter %1000 ==0:\n",
    "        time.sleep(5)\n",
    "    if i.num_comments>=10:\n",
    "        dic = {}\n",
    "        dic['num_comments']=i.num_comments\n",
    "        dic['title'] = i.title\n",
    "        dic[\"url\"] = i.url\n",
    "        dic['body']=i.selftext\n",
    "        dic['score']=i.score\n",
    "        dic['body+title'] = i.title+\" \"+i.selftext\n",
    "        bc_2yrs_10com.append(dic)\n",
    "        counter +=1\n",
    "    \n",
    "    \n",
    "\n",
    "bc_2yrs_10com_df=pd.DataFrame(bc_2yrs_10com)"
   ]
  },
  {
   "cell_type": "code",
   "execution_count": 8,
   "metadata": {},
   "outputs": [],
   "source": [
    "bc_1yrs_10com = []\n",
    "\n",
    "counter = 0\n",
    "for i in api.search_submissions(after=one_yr_ago,before=zero_yr_ago,\n",
    "                      subreddit='chicagobulls',\n",
    "                      limit=7000):\n",
    "    if counter %1000 ==0:\n",
    "        time.sleep(5)\n",
    "    if i.num_comments>=10:\n",
    "        dic = {}\n",
    "        dic['num_comments']=i.num_comments\n",
    "        dic['title'] = i.title\n",
    "        dic[\"url\"] = i.url\n",
    "        dic['body']=i.selftext\n",
    "        dic['score']=i.score\n",
    "        dic['body+title'] = i.title+\" \"+i.selftext\n",
    "        bc_1yrs_10com.append(dic)\n",
    "        counter +=1\n",
    "    \n",
    "    \n",
    "\n",
    "bc_1yrs_10com_df=pd.DataFrame(bc_1yrs_10com)"
   ]
  },
  {
   "cell_type": "code",
   "execution_count": 9,
   "metadata": {},
   "outputs": [
    {
     "name": "stdout",
     "output_type": "stream",
     "text": [
      "(2962, 6)\n",
      "(3350, 6)\n",
      "(2557, 6)\n"
     ]
    }
   ],
   "source": [
    "print(bc_1yrs_10com_df.shape)\n",
    "print(bc_2yrs_10com_df.shape)\n",
    "print(bc_3yrs_10com_df.shape)"
   ]
  },
  {
   "cell_type": "code",
   "execution_count": 10,
   "metadata": {},
   "outputs": [],
   "source": [
    "bc_1yrs_10com_df.to_csv(\"datasets/bulls/bc_1yrs_10com.csv\",index=False)\n",
    "bc_2yrs_10com_df.to_csv(\"datasets/bulls/bc_2yrs_10com.csv\",index=False)\n",
    "bc_3yrs_10com_df.to_csv(\"datasets/bulls/bc_3yrs_10com.csv\",index=False)"
   ]
  },
  {
   "cell_type": "code",
   "execution_count": null,
   "metadata": {},
   "outputs": [],
   "source": []
  }
 ],
 "metadata": {
  "kernelspec": {
   "display_name": "Python 3",
   "language": "python",
   "name": "python3"
  },
  "language_info": {
   "codemirror_mode": {
    "name": "ipython",
    "version": 3
   },
   "file_extension": ".py",
   "mimetype": "text/x-python",
   "name": "python",
   "nbconvert_exporter": "python",
   "pygments_lexer": "ipython3",
   "version": "3.6.8"
  }
 },
 "nbformat": 4,
 "nbformat_minor": 2
}
