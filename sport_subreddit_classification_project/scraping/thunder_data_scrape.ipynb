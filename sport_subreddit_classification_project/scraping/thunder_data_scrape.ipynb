{
 "cells": [
  {
   "cell_type": "code",
   "execution_count": 7,
   "metadata": {},
   "outputs": [],
   "source": [
    "import pandas as pd\n",
    "import praw\n",
    "from psaw import PushshiftAPI\n",
    "import time\n",
    "import pandas as pd"
   ]
  },
  {
   "cell_type": "code",
   "execution_count": 2,
   "metadata": {},
   "outputs": [],
   "source": [
    "reddit = praw.Reddit(client_id = '',     #this is that personal use script key\n",
    "                     client_secret = '', #this is that secret key\n",
    "                     user_agent = '',    #Whatever name you gave your application\n",
    "                     username = '',      #your Reddit user name\n",
    "                     password = '')      #your Reddit password"
   ]
  },
  {
   "cell_type": "code",
   "execution_count": 3,
   "metadata": {},
   "outputs": [],
   "source": [
    "api = PushshiftAPI(reddit)"
   ]
  },
  {
   "cell_type": "code",
   "execution_count": 4,
   "metadata": {},
   "outputs": [],
   "source": [
    "#creating time spans\n",
    "three_yrs_ago = int(dt.datetime(2016,6,12).timestamp())\n",
    "two_yrs_ago= int(dt.datetime(2017,6,12).timestamp())\n",
    "one_yr_ago= int(dt.datetime(2018,6,12).timestamp())\n",
    "zero_yr_ago = int(dt.datetime(2019,7,3).timestamp())"
   ]
  },
  {
   "cell_type": "code",
   "execution_count": 19,
   "metadata": {},
   "outputs": [],
   "source": [
    "#thunder content 3 years ago, 7k limit, 1 comment minimum\n",
    "\n",
    "#thunder 1com starts\n",
    "\n",
    "#Nate taught me how pushshift API works\n",
    "tc_3yrs_1com = []\n",
    "\n",
    "counter = 0\n",
    "for i in api.search_submissions(after=three_yrs_ago,before=two_yrs_ago,\n",
    "                      subreddit='thunder',\n",
    "                      limit=7000):\n",
    "    if counter %1000 ==0:\n",
    "        time.sleep(3)\n",
    "    if i.num_comments>=1:\n",
    "        dic = {}\n",
    "        dic['num_comments']=i.num_comments\n",
    "        dic['title'] = i.title\n",
    "        dic[\"url\"] = i.url\n",
    "        dic['body']=i.selftext\n",
    "        dic['score']=i.score\n",
    "        dic['body+title'] = i.title+\" \"+i.selftext\n",
    "        tc_3yrs_1com.append(dic)\n",
    "        counter +=1\n",
    "    \n",
    "    \n",
    "\n",
    "tc_3yrs_1com_df=pd.DataFrame(tc_3yrs_1com)"
   ]
  },
  {
   "cell_type": "code",
   "execution_count": null,
   "metadata": {},
   "outputs": [],
   "source": [
    "#limit 10k gave 4977 rows\n",
    "#limit 7k gave 4802 rows\n",
    "#limit 5k gave 3430 rows"
   ]
  },
  {
   "cell_type": "code",
   "execution_count": 20,
   "metadata": {},
   "outputs": [
    {
     "data": {
      "text/html": [
       "<div>\n",
       "<style scoped>\n",
       "    .dataframe tbody tr th:only-of-type {\n",
       "        vertical-align: middle;\n",
       "    }\n",
       "\n",
       "    .dataframe tbody tr th {\n",
       "        vertical-align: top;\n",
       "    }\n",
       "\n",
       "    .dataframe thead th {\n",
       "        text-align: right;\n",
       "    }\n",
       "</style>\n",
       "<table border=\"1\" class=\"dataframe\">\n",
       "  <thead>\n",
       "    <tr style=\"text-align: right;\">\n",
       "      <th></th>\n",
       "      <th>body</th>\n",
       "      <th>body+title</th>\n",
       "      <th>num_comments</th>\n",
       "      <th>score</th>\n",
       "      <th>title</th>\n",
       "      <th>url</th>\n",
       "    </tr>\n",
       "  </thead>\n",
       "  <tbody>\n",
       "    <tr>\n",
       "      <th>0</th>\n",
       "      <td>Hey, what's up guys! I'm making a video on eve...</td>\n",
       "      <td>Best play of the regular season for the Thunde...</td>\n",
       "      <td>13</td>\n",
       "      <td>4</td>\n",
       "      <td>Best play of the regular season for the Thunder</td>\n",
       "      <td>https://www.reddit.com/r/Thunder/comments/6gq3...</td>\n",
       "    </tr>\n",
       "    <tr>\n",
       "      <th>1</th>\n",
       "      <td>How would you guys feel if Presti Signed Jimme...</td>\n",
       "      <td>Jimmer Fredette How would you guys feel if Pre...</td>\n",
       "      <td>8</td>\n",
       "      <td>0</td>\n",
       "      <td>Jimmer Fredette</td>\n",
       "      <td>https://www.reddit.com/r/Thunder/comments/6gpy...</td>\n",
       "    </tr>\n",
       "    <tr>\n",
       "      <th>2</th>\n",
       "      <td>[deleted]</td>\n",
       "      <td>KD says his Thunder teams were never champions...</td>\n",
       "      <td>25</td>\n",
       "      <td>15</td>\n",
       "      <td>KD says his Thunder teams were never champions...</td>\n",
       "      <td>https://twitter.com/TheNBACentral/status/87409...</td>\n",
       "    </tr>\n",
       "    <tr>\n",
       "      <th>3</th>\n",
       "      <td></td>\n",
       "      <td>I don't know if this has been posted before (I...</td>\n",
       "      <td>8</td>\n",
       "      <td>60</td>\n",
       "      <td>I don't know if this has been posted before (I...</td>\n",
       "      <td>http://7a-filtered.tumblr.com/</td>\n",
       "    </tr>\n",
       "    <tr>\n",
       "      <th>4</th>\n",
       "      <td></td>\n",
       "      <td>My latest Westbrook mix - DNA</td>\n",
       "      <td>1</td>\n",
       "      <td>16</td>\n",
       "      <td>My latest Westbrook mix - DNA</td>\n",
       "      <td>https://www.youtube.com/watch?v=HtY6SKOtqiU</td>\n",
       "    </tr>\n",
       "  </tbody>\n",
       "</table>\n",
       "</div>"
      ],
      "text/plain": [
       "                                                body  \\\n",
       "0  Hey, what's up guys! I'm making a video on eve...   \n",
       "1  How would you guys feel if Presti Signed Jimme...   \n",
       "2                                          [deleted]   \n",
       "3                                                      \n",
       "4                                                      \n",
       "\n",
       "                                          body+title  num_comments  score  \\\n",
       "0  Best play of the regular season for the Thunde...            13      4   \n",
       "1  Jimmer Fredette How would you guys feel if Pre...             8      0   \n",
       "2  KD says his Thunder teams were never champions...            25     15   \n",
       "3  I don't know if this has been posted before (I...             8     60   \n",
       "4                     My latest Westbrook mix - DNA              1     16   \n",
       "\n",
       "                                               title  \\\n",
       "0    Best play of the regular season for the Thunder   \n",
       "1                                    Jimmer Fredette   \n",
       "2  KD says his Thunder teams were never champions...   \n",
       "3  I don't know if this has been posted before (I...   \n",
       "4                      My latest Westbrook mix - DNA   \n",
       "\n",
       "                                                 url  \n",
       "0  https://www.reddit.com/r/Thunder/comments/6gq3...  \n",
       "1  https://www.reddit.com/r/Thunder/comments/6gpy...  \n",
       "2  https://twitter.com/TheNBACentral/status/87409...  \n",
       "3                     http://7a-filtered.tumblr.com/  \n",
       "4        https://www.youtube.com/watch?v=HtY6SKOtqiU  "
      ]
     },
     "execution_count": 20,
     "metadata": {},
     "output_type": "execute_result"
    }
   ],
   "source": [
    "tc_3yrs_1com_df.head()"
   ]
  },
  {
   "cell_type": "code",
   "execution_count": 21,
   "metadata": {},
   "outputs": [],
   "source": [
    "#1comment 2 yrs\n",
    "tc_2yrs_1com = []\n",
    "\n",
    "counter = 0\n",
    "for i in api.search_submissions(after=two_yrs_ago,before=one_yr_ago,\n",
    "                      subreddit='thunder',\n",
    "                      limit=7000):\n",
    "    if counter %1000 ==0:\n",
    "        time.sleep(3)\n",
    "    if i.num_comments>=1:\n",
    "        dic = {}\n",
    "        dic['num_comments']=i.num_comments\n",
    "        dic['title'] = i.title\n",
    "        dic[\"url\"] = i.url\n",
    "        dic['body']=i.selftext\n",
    "        dic['score']=i.score\n",
    "        dic['body+title'] = i.title+\" \"+i.selftext\n",
    "        tc_2yrs_1com.append(dic)\n",
    "        counter +=1\n",
    "    \n",
    "    \n",
    "\n",
    "tc_2yrs_1com_df=pd.DataFrame(tc_2yrs_1com)"
   ]
  },
  {
   "cell_type": "code",
   "execution_count": 22,
   "metadata": {},
   "outputs": [],
   "source": [
    "tc_1yrs_1com = []\n",
    "\n",
    "counter = 0\n",
    "for i in api.search_submissions(after=one_yr_ago,before=zero_yr_ago,\n",
    "                      subreddit='thunder',\n",
    "                      limit=7000):\n",
    "    if counter %1000 ==0:\n",
    "        time.sleep(3)\n",
    "    if i.num_comments>=1:\n",
    "        dic = {}\n",
    "        dic['num_comments']=i.num_comments\n",
    "        dic['title'] = i.title\n",
    "        dic[\"url\"] = i.url\n",
    "        dic['body']=i.selftext\n",
    "        dic['score']=i.score\n",
    "        dic['body+title'] = i.title+\" \"+i.selftext\n",
    "        tc_1yrs_1com.append(dic)\n",
    "        counter +=1\n",
    "    \n",
    "    \n",
    "\n",
    "tc_1yrs_1com_df=pd.DataFrame(tc_1yrs_1com)"
   ]
  },
  {
   "cell_type": "code",
   "execution_count": null,
   "metadata": {},
   "outputs": [],
   "source": [
    "# 4 comment minimum"
   ]
  },
  {
   "cell_type": "code",
   "execution_count": 23,
   "metadata": {},
   "outputs": [],
   "source": [
    "tc_3yrs_4com = []\n",
    "\n",
    "counter = 0\n",
    "for i in api.search_submissions(after=three_yrs_ago,before=two_yrs_ago,\n",
    "                      subreddit='thunder',\n",
    "                      limit=7000):\n",
    "    if counter %1000 ==0:\n",
    "        time.sleep(5)\n",
    "    if i.num_comments>=4:\n",
    "        dic = {}\n",
    "        dic['num_comments']=i.num_comments\n",
    "        dic['title'] = i.title\n",
    "        dic[\"url\"] = i.url\n",
    "        dic['body']=i.selftext\n",
    "        dic['score']=i.score\n",
    "        dic['body+title'] = i.title+\" \"+i.selftext\n",
    "        tc_3yrs_4com.append(dic)\n",
    "        counter +=1\n",
    "    \n",
    "    \n",
    "\n",
    "tc_3yrs_4com_df=pd.DataFrame(tc_3yrs_4com)"
   ]
  },
  {
   "cell_type": "code",
   "execution_count": 24,
   "metadata": {},
   "outputs": [],
   "source": [
    "tc_2yrs_4com = []\n",
    "\n",
    "counter = 0\n",
    "for i in api.search_submissions(after=two_yrs_ago,before=one_yr_ago,\n",
    "                      subreddit='thunder',\n",
    "                      limit=7000):\n",
    "    if counter %1000 ==0:\n",
    "        time.sleep(5)\n",
    "    if i.num_comments>=4:\n",
    "        dic = {}\n",
    "        dic['num_comments']=i.num_comments\n",
    "        dic['title'] = i.title\n",
    "        dic[\"url\"] = i.url\n",
    "        dic['body']=i.selftext\n",
    "        dic['score']=i.score\n",
    "        dic['body+title'] = i.title+\" \"+i.selftext\n",
    "        tc_2yrs_4com.append(dic)\n",
    "        counter +=1\n",
    "    \n",
    "    \n",
    "\n",
    "tc_2yrs_4com_df=pd.DataFrame(tc_2yrs_4com)"
   ]
  },
  {
   "cell_type": "code",
   "execution_count": 25,
   "metadata": {},
   "outputs": [],
   "source": [
    "tc_1yrs_4com = []\n",
    "\n",
    "counter = 0\n",
    "for i in api.search_submissions(after=one_yr_ago,before=zero_yr_ago,\n",
    "                      subreddit='thunder',\n",
    "                      limit=7000):\n",
    "    if counter %1000 ==0:\n",
    "        time.sleep(5)\n",
    "    if i.num_comments>=4:\n",
    "        dic = {}\n",
    "        dic['num_comments']=i.num_comments\n",
    "        dic['title'] = i.title\n",
    "        dic[\"url\"] = i.url\n",
    "        dic['body']=i.selftext\n",
    "        dic['score']=i.score\n",
    "        dic['body+title'] = i.title+\" \"+i.selftext\n",
    "        tc_1yrs_4com.append(dic)\n",
    "        counter +=1\n",
    "    \n",
    "    \n",
    "\n",
    "tc_1yrs_4com_df=pd.DataFrame(tc_1yrs_4com)"
   ]
  },
  {
   "cell_type": "code",
   "execution_count": 26,
   "metadata": {},
   "outputs": [],
   "source": [
    "tc_1yrs_1com_df.to_csv(\"datasets/thunder/tc_1yr_1com.csv\",index=False)\n",
    "tc_2yrs_1com_df.to_csv(\"datasets/thunder/tc_2yr_1com.csv\",index=False)\n",
    "tc_3yrs_1com_df.to_csv(\"datasets/thunder/tc_3yr_1com.csv\",index=False)"
   ]
  },
  {
   "cell_type": "code",
   "execution_count": 27,
   "metadata": {},
   "outputs": [],
   "source": [
    "tc_1yrs_4com_df.to_csv(\"datasets/thunder/tc_1yr_4com.csv\",index=False)\n",
    "tc_2yrs_4com_df.to_csv(\"datasets/thunder/tc_2yr_4com.csv\",index=False)\n",
    "tc_3yrs_4com_df.to_csv(\"datasets/thunder/tc_3yr_4com.csv\",index=False)"
   ]
  },
  {
   "cell_type": "code",
   "execution_count": 28,
   "metadata": {},
   "outputs": [
    {
     "name": "stdout",
     "output_type": "stream",
     "text": [
      "(5905, 6)\n",
      "(6030, 6)\n",
      "(5355, 6)\n"
     ]
    }
   ],
   "source": [
    "print(tc_1yrs_1com_df.shape)\n",
    "print(tc_2yrs_1com_df.shape)\n",
    "print(tc_3yrs_1com_df.shape)"
   ]
  },
  {
   "cell_type": "code",
   "execution_count": 29,
   "metadata": {},
   "outputs": [
    {
     "name": "stdout",
     "output_type": "stream",
     "text": [
      "(4337, 6)\n",
      "(4541, 6)\n",
      "(3829, 6)\n"
     ]
    }
   ],
   "source": [
    "print(tc_1yrs_4com_df.shape)\n",
    "print(tc_2yrs_4com_df.shape)\n",
    "print(tc_3yrs_4com_df.shape)"
   ]
  },
  {
   "cell_type": "code",
   "execution_count": 8,
   "metadata": {},
   "outputs": [],
   "source": [
    "#10 comments\n",
    "tc_3yrs_10com = []\n",
    "\n",
    "counter = 0\n",
    "for i in api.search_submissions(after=three_yrs_ago,before=two_yrs_ago,\n",
    "                      subreddit='thunder',\n",
    "                      limit=7000):\n",
    "    if counter %1000 ==0:\n",
    "        time.sleep(5)\n",
    "    if i.num_comments>=10:\n",
    "        dic = {}\n",
    "        dic['num_comments']=i.num_comments\n",
    "        dic['title'] = i.title\n",
    "        dic[\"url\"] = i.url\n",
    "        dic['body']=i.selftext\n",
    "        dic['score']=i.score\n",
    "        dic['body+title'] = i.title+\" \"+i.selftext\n",
    "        tc_3yrs_10com.append(dic)\n",
    "        counter +=1\n",
    "    \n",
    "    \n",
    "\n",
    "tc_3yrs_10com_df=pd.DataFrame(tc_3yrs_10com)"
   ]
  },
  {
   "cell_type": "code",
   "execution_count": 13,
   "metadata": {},
   "outputs": [],
   "source": [
    "tc_2yrs_10com = []\n",
    "\n",
    "counter = 0\n",
    "for i in api.search_submissions(after=two_yrs_ago,before=one_yr_ago,\n",
    "                      subreddit='thunder',\n",
    "                      limit=7000):\n",
    "    if counter %1000 ==0:\n",
    "        time.sleep(5)\n",
    "    if i.num_comments>=10:\n",
    "        dic = {}\n",
    "        dic['num_comments']=i.num_comments\n",
    "        dic['title'] = i.title\n",
    "        dic[\"url\"] = i.url\n",
    "        dic['body']=i.selftext\n",
    "        dic['score']=i.score\n",
    "        dic['body+title'] = i.title+\" \"+i.selftext\n",
    "        tc_2yrs_10com.append(dic)\n",
    "        counter +=1\n",
    "    \n",
    "    \n",
    "\n",
    "tc_2yrs_10com_df=pd.DataFrame(tc_2yrs_10com)"
   ]
  },
  {
   "cell_type": "code",
   "execution_count": 14,
   "metadata": {},
   "outputs": [],
   "source": [
    "tc_1yrs_10com = []\n",
    "\n",
    "counter = 0\n",
    "for i in api.search_submissions(after=one_yr_ago,before=zero_yr_ago,\n",
    "                      subreddit='thunder',\n",
    "                      limit=7000):\n",
    "    if counter %1000 ==0:\n",
    "        time.sleep(5)\n",
    "    if i.num_comments>=10:\n",
    "        dic = {}\n",
    "        dic['num_comments']=i.num_comments\n",
    "        dic['title'] = i.title\n",
    "        dic[\"url\"] = i.url\n",
    "        dic['body']=i.selftext\n",
    "        dic['score']=i.score\n",
    "        dic['body+title'] = i.title+\" \"+i.selftext\n",
    "        tc_1yrs_10com.append(dic)\n",
    "        counter +=1\n",
    "    \n",
    "    \n",
    "\n",
    "tc_1yrs_10com_df=pd.DataFrame(tc_1yrs_10com)"
   ]
  },
  {
   "cell_type": "code",
   "execution_count": 16,
   "metadata": {},
   "outputs": [],
   "source": [
    "tc_1yrs_10com_df.to_csv(\"datasets/thunder/tc_1yr_10com.csv\",index=False)\n",
    "tc_2yrs_10com_df.to_csv(\"datasets/thunder/tc_2yr_10com.csv\",index=False)\n",
    "tc_3yrs_10com_df.to_csv(\"datasets/thunder/tc_3yr_10com.csv\",index=False)"
   ]
  },
  {
   "cell_type": "code",
   "execution_count": 15,
   "metadata": {},
   "outputs": [
    {
     "name": "stdout",
     "output_type": "stream",
     "text": [
      "(2619, 6)\n",
      "(2639, 6)\n",
      "(2051, 6)\n"
     ]
    }
   ],
   "source": [
    "print(tc_1yrs_10com_df.shape)\n",
    "print(tc_2yrs_10com_df.shape)\n",
    "print(tc_3yrs_10com_df.shape)"
   ]
  },
  {
   "cell_type": "code",
   "execution_count": null,
   "metadata": {},
   "outputs": [],
   "source": []
  }
 ],
 "metadata": {
  "kernelspec": {
   "display_name": "Python 3",
   "language": "python",
   "name": "python3"
  },
  "language_info": {
   "codemirror_mode": {
    "name": "ipython",
    "version": 3
   },
   "file_extension": ".py",
   "mimetype": "text/x-python",
   "name": "python",
   "nbconvert_exporter": "python",
   "pygments_lexer": "ipython3",
   "version": "3.6.8"
  }
 },
 "nbformat": 4,
 "nbformat_minor": 2
}
