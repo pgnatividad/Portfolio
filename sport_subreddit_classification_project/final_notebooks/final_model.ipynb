{
 "cells": [
  {
   "cell_type": "markdown",
   "metadata": {},
   "source": [
    "# Prepping the DataFrame"
   ]
  },
  {
   "cell_type": "code",
   "execution_count": 2,
   "metadata": {},
   "outputs": [],
   "source": [
    "thunder_3y = pd.read_csv('../datasets/thunder/tc_3yr_4com.csv')\n",
    "thunder_2y = pd.read_csv('../datasets/thunder/tc_2yr_4com.csv')\n",
    "thunder_1y = pd.read_csv('../datasets/thunder/tc_1yr_4com.csv')"
   ]
  },
  {
   "cell_type": "code",
   "execution_count": 3,
   "metadata": {},
   "outputs": [],
   "source": [
    "bulls_3y = pd.read_csv('../datasets/bulls/bc_3yrs_4com.csv')\n",
    "bulls_2y = pd.read_csv('../datasets/bulls/bc_2yrs_4com.csv')\n",
    "bulls_1y = pd.read_csv('../datasets/bulls/bc_1yrs_4com.csv')"
   ]
  },
  {
   "cell_type": "code",
   "execution_count": 4,
   "metadata": {},
   "outputs": [],
   "source": [
    "thunder_df = pd.concat([thunder_1y,thunder_2y,thunder_3y])"
   ]
  },
  {
   "cell_type": "code",
   "execution_count": 5,
   "metadata": {},
   "outputs": [],
   "source": [
    "bulls_df = pd.concat([bulls_3y,bulls_2y,bulls_1y])"
   ]
  },
  {
   "cell_type": "code",
   "execution_count": 6,
   "metadata": {},
   "outputs": [],
   "source": [
    "thunder_df['is_thunder'] = 1\n",
    "bulls_df['is_thunder'] = 0"
   ]
  },
  {
   "cell_type": "code",
   "execution_count": 7,
   "metadata": {},
   "outputs": [],
   "source": [
    "combined_df = pd.concat([thunder_df,bulls_df])"
   ]
  },
  {
   "cell_type": "code",
   "execution_count": 8,
   "metadata": {},
   "outputs": [],
   "source": [
    "\n",
    "combined_df['body+title']=combined_df['body+title'].replace('http\\S+', '', regex=True).replace('www\\S+', '', regex=True).replace('\\n\\n\\S+', '', regex=True).replace('\\n\\S+','',regex=True)"
   ]
  },
  {
   "cell_type": "markdown",
   "metadata": {},
   "source": [
    "# Creating the Model"
   ]
  },
  {
   "cell_type": "code",
   "execution_count": 9,
   "metadata": {},
   "outputs": [],
   "source": [
    "X = combined_df['body+title']\n",
    "y = combined_df['is_thunder']"
   ]
  },
  {
   "cell_type": "code",
   "execution_count": 10,
   "metadata": {},
   "outputs": [],
   "source": [
    "X_train, X_test, y_train, y_test = train_test_split(X,y,test_size=0.4,random_state=42)"
   ]
  },
  {
   "cell_type": "code",
   "execution_count": 37,
   "metadata": {},
   "outputs": [
    {
     "data": {
      "text/plain": [
       "(14758,)"
      ]
     },
     "execution_count": 37,
     "metadata": {},
     "output_type": "execute_result"
    }
   ],
   "source": [
    "y_train.shape"
   ]
  },
  {
   "cell_type": "code",
   "execution_count": 11,
   "metadata": {},
   "outputs": [],
   "source": [
    "logreg = LogisticRegression(C=1,n_jobs=-1,penalty='l2',random_state=13)\n",
    "tvec = TfidfVectorizer(ngram_range=(1,1),max_features=15000,stop_words='english')"
   ]
  },
  {
   "cell_type": "code",
   "execution_count": 12,
   "metadata": {},
   "outputs": [],
   "source": [
    "X_train_tf =tvec.fit_transform(X_train)\n",
    "X_test_tf=tvec.transform(X_test)"
   ]
  },
  {
   "cell_type": "code",
   "execution_count": 13,
   "metadata": {},
   "outputs": [
    {
     "name": "stderr",
     "output_type": "stream",
     "text": [
      "/anaconda3/lib/python3.6/site-packages/sklearn/linear_model/logistic.py:432: FutureWarning: Default solver will be changed to 'lbfgs' in 0.22. Specify a solver to silence this warning.\n",
      "  FutureWarning)\n",
      "/anaconda3/lib/python3.6/site-packages/sklearn/linear_model/logistic.py:1544: UserWarning: 'n_jobs' > 1 does not have any effect when 'solver' is set to 'liblinear'. Got 'n_jobs' = 4.\n",
      "  \" = {}.\".format(effective_n_jobs(self.n_jobs)))\n"
     ]
    }
   ],
   "source": [
    "logreg.fit(X_train_tf,y_train);"
   ]
  },
  {
   "cell_type": "code",
   "execution_count": 14,
   "metadata": {},
   "outputs": [
    {
     "data": {
      "text/plain": [
       "0.9550074535844966"
      ]
     },
     "execution_count": 14,
     "metadata": {},
     "output_type": "execute_result"
    }
   ],
   "source": [
    "logreg.score(X_train_tf,y_train)"
   ]
  },
  {
   "cell_type": "code",
   "execution_count": 15,
   "metadata": {},
   "outputs": [
    {
     "data": {
      "text/plain": [
       "0.9217479674796748"
      ]
     },
     "execution_count": 15,
     "metadata": {},
     "output_type": "execute_result"
    }
   ],
   "source": [
    "logreg.score(X_test_tf,y_test)"
   ]
  },
  {
   "cell_type": "markdown",
   "metadata": {},
   "source": [
    "# Visualization prep"
   ]
  },
  {
   "cell_type": "code",
   "execution_count": 16,
   "metadata": {},
   "outputs": [],
   "source": [
    "#Adapted from General Assembly:5.04 lesson-nlp_ii code\n",
    "X_train_df = pd.DataFrame(X_train_tf.toarray(),columns=tvec.get_feature_names())"
   ]
  },
  {
   "cell_type": "code",
   "execution_count": 17,
   "metadata": {},
   "outputs": [],
   "source": [
    "#words_and_values=list(zip(list(np.exp(logreg.coef_[0])),tvec.get_feature_names()))\n",
    "# The above gives the odds \n",
    "words_and_values=list(zip(list(logreg.coef_[0]),tvec.get_feature_names()))\n",
    "\n",
    "\n",
    "\n",
    "\n"
   ]
  },
  {
   "cell_type": "code",
   "execution_count": 18,
   "metadata": {},
   "outputs": [],
   "source": [
    "words_and_values.sort()"
   ]
  },
  {
   "cell_type": "code",
   "execution_count": 19,
   "metadata": {},
   "outputs": [],
   "source": [
    "bulls_words=words_and_values[0:10]"
   ]
  },
  {
   "cell_type": "code",
   "execution_count": 20,
   "metadata": {},
   "outputs": [],
   "source": [
    "thunder_words=words_and_values[-10:]"
   ]
  },
  {
   "cell_type": "code",
   "execution_count": 21,
   "metadata": {},
   "outputs": [
    {
     "data": {
      "text/plain": [
       "[(-14.392886678700664, 'bulls'),\n",
       " (-6.108053231617353, 'lauri'),\n",
       " (-6.030113813312444, 'chicago'),\n",
       " (-5.166208661464737, 'jimmy'),\n",
       " (-5.0807209664493005, 'wade'),\n",
       " (-4.82645935273721, 'lavine'),\n",
       " (-4.656812098514539, 'rondo'),\n",
       " (-4.6239668881914, 'markkanen'),\n",
       " (-4.531233525599421, 'dunn'),\n",
       " (-4.384141825974832, 'hoiberg')]"
      ]
     },
     "execution_count": 21,
     "metadata": {},
     "output_type": "execute_result"
    }
   ],
   "source": [
    "bulls_words"
   ]
  },
  {
   "cell_type": "code",
   "execution_count": 22,
   "metadata": {},
   "outputs": [
    {
     "data": {
      "text/plain": [
       "15000"
      ]
     },
     "execution_count": 22,
     "metadata": {},
     "output_type": "execute_result"
    }
   ],
   "source": [
    "len(words_and_values)"
   ]
  },
  {
   "cell_type": "code",
   "execution_count": 23,
   "metadata": {},
   "outputs": [
    {
     "data": {
      "text/plain": [
       "[(8.555508397669024e-06, 'alvin'),\n",
       " (8.555508397669024e-06, 'arson'),\n",
       " (8.555508397669024e-06, 'asu'),\n",
       " (8.555508397669024e-06, 'backboard'),\n",
       " (8.555508397669024e-06, 'backpedaling'),\n",
       " (8.555508397669024e-06, 'bandied'),\n",
       " (8.555508397669024e-06, 'blitzkriegs'),\n",
       " (8.555508397669024e-06, 'blogger'),\n",
       " (8.555508397669024e-06, 'chapo'),\n",
       " (8.555508397669024e-06, 'cocktail'),\n",
       " (8.555508397669024e-06, 'colabro'),\n",
       " (8.555508397669024e-06, 'grandest'),\n",
       " (8.555508397669024e-06, 'mythic'),\n",
       " (8.555508397669024e-06, 'scoff'),\n",
       " (8.555508397669024e-06, 'showtime'),\n",
       " (8.555508397669024e-06, 'slice'),\n",
       " (8.555508397669024e-06, 'slouch'),\n",
       " (8.555508397669024e-06, 'spectacle'),\n",
       " (8.555508397669024e-06, 'storylines'),\n",
       " (8.555508397669024e-06, 'supersonic')]"
      ]
     },
     "execution_count": 23,
     "metadata": {},
     "output_type": "execute_result"
    }
   ],
   "source": [
    "words_and_values[7490:7510]"
   ]
  },
  {
   "cell_type": "code",
   "execution_count": null,
   "metadata": {},
   "outputs": [],
   "source": []
  },
  {
   "cell_type": "code",
   "execution_count": 24,
   "metadata": {},
   "outputs": [],
   "source": [
    "thunder_coef,thunder_feature = zip(*thunder_words)"
   ]
  },
  {
   "cell_type": "code",
   "execution_count": 25,
   "metadata": {},
   "outputs": [],
   "source": [
    "bulls_coef,bulls_feature = zip(*bulls_words)"
   ]
  },
  {
   "cell_type": "code",
   "execution_count": 26,
   "metadata": {},
   "outputs": [
    {
     "data": {
      "text/plain": [
       "Text(0, 0.5, '\"Thunder\"\\n Subreddit Words')"
      ]
     },
     "execution_count": 26,
     "metadata": {},
     "output_type": "execute_result"
    },
    {
     "data": {
      "image/png": "[encoded data removed]",
      "text/plain": [
       "<Figure size 432x288 with 1 Axes>"
      ]
     },
     "metadata": {
      "needs_background": "light"
     },
     "output_type": "display_data"
    }
   ],
   "source": [
    "plt.barh(thunder_feature,thunder_coef,color='dodgerblue')\n",
    "plt.ylim();\n",
    "plt.xlabel('ln-odds')\n",
    "plt.ylabel('\"Thunder\"\\n Subreddit Words',rotation=45)"
   ]
  },
  {
   "cell_type": "code",
   "execution_count": 27,
   "metadata": {},
   "outputs": [
    {
     "data": {
      "text/plain": [
       "Text(0, 0.5, '\"Bulls\"\\n Subreddit Words')"
      ]
     },
     "execution_count": 27,
     "metadata": {},
     "output_type": "execute_result"
    },
    {
     "data": {
      "image/png": "[encoded data removed]",
      "text/plain": [
       "<Figure size 432x288 with 1 Axes>"
      ]
     },
     "metadata": {
      "needs_background": "light"
     },
     "output_type": "display_data"
    }
   ],
   "source": [
    "plt.barh(bulls_feature,bulls_coef,color='crimson')\n",
    "plt.ylim();\n",
    "plt.xlabel('ln-odds')\n",
    "plt.ylabel('\"Bulls\"\\n Subreddit Words',rotation=45)"
   ]
  },
  {
   "cell_type": "markdown",
   "metadata": {},
   "source": [
    "# Metrics"
   ]
  },
  {
   "cell_type": "code",
   "execution_count": 28,
   "metadata": {},
   "outputs": [],
   "source": [
    "pred = logreg.predict(X_test_tf)"
   ]
  },
  {
   "cell_type": "code",
   "execution_count": 29,
   "metadata": {},
   "outputs": [],
   "source": [
    "cm=confusion_matrix(y_test,pred)"
   ]
  },
  {
   "cell_type": "code",
   "execution_count": 30,
   "metadata": {},
   "outputs": [],
   "source": [
    "cm_df=pd.DataFrame(cm,columns=['Pred Bulls',\n",
    "                        'Pred Thunder'],\n",
    "            index =['Actual Bulls','Actual Thunder'])"
   ]
  },
  {
   "cell_type": "code",
   "execution_count": 31,
   "metadata": {},
   "outputs": [],
   "source": [
    "r_cm_df=round(cm_df/10,-1)"
   ]
  },
  {
   "cell_type": "code",
   "execution_count": 32,
   "metadata": {},
   "outputs": [
    {
     "data": {
      "text/html": [
       "<div>\n",
       "<style scoped>\n",
       "    .dataframe tbody tr th:only-of-type {\n",
       "        vertical-align: middle;\n",
       "    }\n",
       "\n",
       "    .dataframe tbody tr th {\n",
       "        vertical-align: top;\n",
       "    }\n",
       "\n",
       "    .dataframe thead th {\n",
       "        text-align: right;\n",
       "    }\n",
       "</style>\n",
       "<table border=\"1\" class=\"dataframe\">\n",
       "  <thead>\n",
       "    <tr style=\"text-align: right;\">\n",
       "      <th></th>\n",
       "      <th>Pred Bulls</th>\n",
       "      <th>Pred Thunder</th>\n",
       "    </tr>\n",
       "  </thead>\n",
       "  <tbody>\n",
       "    <tr>\n",
       "      <th>Actual Bulls</th>\n",
       "      <td>420</td>\n",
       "      <td>50</td>\n",
       "    </tr>\n",
       "    <tr>\n",
       "      <th>Actual Thunder</th>\n",
       "      <td>20</td>\n",
       "      <td>490</td>\n",
       "    </tr>\n",
       "  </tbody>\n",
       "</table>\n",
       "</div>"
      ],
      "text/plain": [
       "                Pred Bulls  Pred Thunder\n",
       "Actual Bulls           420            50\n",
       "Actual Thunder          20           490"
      ]
     },
     "execution_count": 32,
     "metadata": {},
     "output_type": "execute_result"
    }
   ],
   "source": [
    "r_cm_df.astype(int)"
   ]
  },
  {
   "cell_type": "code",
   "execution_count": 33,
   "metadata": {},
   "outputs": [
    {
     "data": {
      "text/plain": [
       "0.951970201921192"
      ]
     },
     "execution_count": 33,
     "metadata": {},
     "output_type": "execute_result"
    }
   ],
   "source": [
    "Sensitivity = cm[1][1]/(cm[1][1]+cm[1][0])\n",
    "Sensitivity"
   ]
  },
  {
   "cell_type": "code",
   "execution_count": 34,
   "metadata": {},
   "outputs": [
    {
     "data": {
      "text/plain": [
       "0.8892171344165436"
      ]
     },
     "execution_count": 34,
     "metadata": {},
     "output_type": "execute_result"
    }
   ],
   "source": [
    "Specificity = cm[0][0]/(cm[0][0]+cm[0][1])\n",
    "Specificity"
   ]
  },
  {
   "cell_type": "code",
   "execution_count": 35,
   "metadata": {},
   "outputs": [],
   "source": [
    "predicted_probs=[i[1] for i in logreg.predict_proba(X_test_tf)]"
   ]
  },
  {
   "cell_type": "code",
   "execution_count": 36,
   "metadata": {},
   "outputs": [
    {
     "data": {
      "text/plain": [
       "0.9780492295760684"
      ]
     },
     "execution_count": 36,
     "metadata": {},
     "output_type": "execute_result"
    }
   ],
   "source": [
    "roc_auc_score(y_test,predicted_probs)"
   ]
  },
  {
   "cell_type": "code",
   "execution_count": null,
   "metadata": {},
   "outputs": [],
   "source": []
  }
 ],
 "metadata": {
  "kernelspec": {
   "display_name": "Python 3",
   "language": "python",
   "name": "python3"
  },
  "language_info": {
   "codemirror_mode": {
    "name": "ipython",
    "version": 3
   },
   "file_extension": ".py",
   "mimetype": "text/x-python",
   "name": "python",
   "nbconvert_exporter": "python",
   "pygments_lexer": "ipython3",
   "version": "3.6.9"
  }
 },
 "nbformat": 4,
 "nbformat_minor": 2
}
