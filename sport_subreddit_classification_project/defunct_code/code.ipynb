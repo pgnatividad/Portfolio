{
 "cells": [
  {
   "cell_type": "code",
   "execution_count": 1,
   "metadata": {},
   "outputs": [],
   "source": [
    "import pandas as pd\n",
    "import praw\n",
    "import datetime as dt\n",
    "from psaw import PushshiftAPI\n",
    "import time"
   ]
  },
  {
   "cell_type": "code",
   "execution_count": 2,
   "metadata": {},
   "outputs": [],
   "source": [
    "# #credit to nate\n",
    "\n",
    "\n",
    "# def get_date(created):\n",
    "#     return dt.datetime.fromtimestamp(created)"
   ]
  },
  {
   "cell_type": "code",
   "execution_count": 3,
   "metadata": {},
   "outputs": [],
   "source": [
    "#following cells were taken from Heather Robbins Lesson\n",
    "reddit = praw.Reddit(client_id = 'z0kFNVU4LySc_A',     #this is that personal use script key\n",
    "                     client_secret = 'M0Pt_9h3GsIk7aGLtwmChlC5i8w', #this is that secret key\n",
    "                     user_agent = 'Scraper',    #Whatever name you gave your application\n",
    "                     username = 'scrapper_dan_982',      #your Reddit user name\n",
    "                     password = 'ButtsButts1')      #your Reddit password"
   ]
  },
  {
   "cell_type": "code",
   "execution_count": 4,
   "metadata": {},
   "outputs": [],
   "source": [
    "thunder = reddit.subreddit('thunder') "
   ]
  },
  {
   "cell_type": "code",
   "execution_count": 23,
   "metadata": {},
   "outputs": [],
   "source": [
    "thunder_top = thunder.top(time_filter='year',limit = 10)"
   ]
  },
  {
   "cell_type": "code",
   "execution_count": null,
   "metadata": {},
   "outputs": [],
   "source": []
  },
  {
   "cell_type": "code",
   "execution_count": 24,
   "metadata": {},
   "outputs": [],
   "source": [
    "topics_dict = { \"title\":[],\n",
    "                \"score\":[],\n",
    "                \"id\":[],\n",
    "                \"url\":[], \n",
    "                \"comms_num\": [],\n",
    "                \"created\": [],\n",
    "                \"body\":[]}\n",
    "\n",
    "for item in thunder_top:\n",
    "    topics_dict['subreddit'] = 'thunder'\n",
    "    topics_dict[\"title\"].append(item.title)\n",
    "    topics_dict[\"score\"].append(item.score)\n",
    "    topics_dict[\"id\"].append(item.id)\n",
    "    topics_dict[\"url\"].append(item.url)\n",
    "    topics_dict[\"comms_num\"].append(item.num_comments)\n",
    "    topics_dict[\"created\"].append(item.created)\n",
    "    topics_dict[\"body\"].append(item.selftext)\n",
    "    "
   ]
  },
  {
   "cell_type": "code",
   "execution_count": 25,
   "metadata": {},
   "outputs": [],
   "source": [
    "subreddit_top = pd.DataFrame(topics_dict)\n"
   ]
  },
  {
   "cell_type": "code",
   "execution_count": 26,
   "metadata": {},
   "outputs": [
    {
     "data": {
      "text/html": [
       "<div>\n",
       "<style scoped>\n",
       "    .dataframe tbody tr th:only-of-type {\n",
       "        vertical-align: middle;\n",
       "    }\n",
       "\n",
       "    .dataframe tbody tr th {\n",
       "        vertical-align: top;\n",
       "    }\n",
       "\n",
       "    .dataframe thead th {\n",
       "        text-align: right;\n",
       "    }\n",
       "</style>\n",
       "<table border=\"1\" class=\"dataframe\">\n",
       "  <thead>\n",
       "    <tr style=\"text-align: right;\">\n",
       "      <th></th>\n",
       "      <th>title</th>\n",
       "      <th>score</th>\n",
       "      <th>id</th>\n",
       "      <th>url</th>\n",
       "      <th>comms_num</th>\n",
       "      <th>created</th>\n",
       "      <th>body</th>\n",
       "      <th>subreddit</th>\n",
       "    </tr>\n",
       "  </thead>\n",
       "  <tbody>\n",
       "    <tr>\n",
       "      <th>0</th>\n",
       "      <td>Ah shit, here we go again</td>\n",
       "      <td>2830</td>\n",
       "      <td>bgr2z4</td>\n",
       "      <td>https://i.redd.it/xj8z21brj5u21.jpg</td>\n",
       "      <td>89</td>\n",
       "      <td>1.556114e+09</td>\n",
       "      <td></td>\n",
       "      <td>thunder</td>\n",
       "    </tr>\n",
       "    <tr>\n",
       "      <th>1</th>\n",
       "      <td>MVP. Upvote this image so that when you google...</td>\n",
       "      <td>2667</td>\n",
       "      <td>ap0ja5</td>\n",
       "      <td>https://i.imgur.com/9KzKHpj.jpg</td>\n",
       "      <td>56</td>\n",
       "      <td>1.549801e+09</td>\n",
       "      <td></td>\n",
       "      <td>thunder</td>\n",
       "    </tr>\n",
       "    <tr>\n",
       "      <th>2</th>\n",
       "      <td>Congratulations to Serge Ibaka on his Champion...</td>\n",
       "      <td>1818</td>\n",
       "      <td>c0ffjd</td>\n",
       "      <td>https://i.redd.it/fhyx1ousu8431.jpg</td>\n",
       "      <td>73</td>\n",
       "      <td>1.560513e+09</td>\n",
       "      <td></td>\n",
       "      <td>thunder</td>\n",
       "    </tr>\n",
       "    <tr>\n",
       "      <th>3</th>\n",
       "      <td>T-Ferg reaction to amazing Westbrook pass</td>\n",
       "      <td>1418</td>\n",
       "      <td>ba25zu</td>\n",
       "      <td>https://v.redd.it/jio6mybdplq21</td>\n",
       "      <td>47</td>\n",
       "      <td>1.554567e+09</td>\n",
       "      <td></td>\n",
       "      <td>thunder</td>\n",
       "    </tr>\n",
       "    <tr>\n",
       "      <th>4</th>\n",
       "      <td>Another One.</td>\n",
       "      <td>1294</td>\n",
       "      <td>bgqlwt</td>\n",
       "      <td>https://i.redd.it/bjafkbhk95u21.png</td>\n",
       "      <td>84</td>\n",
       "      <td>1.556111e+09</td>\n",
       "      <td></td>\n",
       "      <td>thunder</td>\n",
       "    </tr>\n",
       "  </tbody>\n",
       "</table>\n",
       "</div>"
      ],
      "text/plain": [
       "                                               title  score      id  \\\n",
       "0                          Ah shit, here we go again   2830  bgr2z4   \n",
       "1  MVP. Upvote this image so that when you google...   2667  ap0ja5   \n",
       "2  Congratulations to Serge Ibaka on his Champion...   1818  c0ffjd   \n",
       "3          T-Ferg reaction to amazing Westbrook pass   1418  ba25zu   \n",
       "4                                       Another One.   1294  bgqlwt   \n",
       "\n",
       "                                   url  comms_num       created body subreddit  \n",
       "0  https://i.redd.it/xj8z21brj5u21.jpg         89  1.556114e+09        thunder  \n",
       "1      https://i.imgur.com/9KzKHpj.jpg         56  1.549801e+09        thunder  \n",
       "2  https://i.redd.it/fhyx1ousu8431.jpg         73  1.560513e+09        thunder  \n",
       "3      https://v.redd.it/jio6mybdplq21         47  1.554567e+09        thunder  \n",
       "4  https://i.redd.it/bjafkbhk95u21.png         84  1.556111e+09        thunder  "
      ]
     },
     "execution_count": 26,
     "metadata": {},
     "output_type": "execute_result"
    }
   ],
   "source": [
    "subreddit_top.head()"
   ]
  },
  {
   "cell_type": "code",
   "execution_count": 13,
   "metadata": {},
   "outputs": [],
   "source": [
    "subreddit_top['created']=subreddit_top['created'].map(lambda x: dt.datetime.fromtimestamp(x) )"
   ]
  },
  {
   "cell_type": "code",
   "execution_count": 14,
   "metadata": {},
   "outputs": [
    {
     "data": {
      "text/html": [
       "<div>\n",
       "<style scoped>\n",
       "    .dataframe tbody tr th:only-of-type {\n",
       "        vertical-align: middle;\n",
       "    }\n",
       "\n",
       "    .dataframe tbody tr th {\n",
       "        vertical-align: top;\n",
       "    }\n",
       "\n",
       "    .dataframe thead th {\n",
       "        text-align: right;\n",
       "    }\n",
       "</style>\n",
       "<table border=\"1\" class=\"dataframe\">\n",
       "  <thead>\n",
       "    <tr style=\"text-align: right;\">\n",
       "      <th></th>\n",
       "      <th>title</th>\n",
       "      <th>score</th>\n",
       "      <th>id</th>\n",
       "      <th>url</th>\n",
       "      <th>comms_num</th>\n",
       "      <th>created</th>\n",
       "      <th>body</th>\n",
       "      <th>subreddit</th>\n",
       "    </tr>\n",
       "  </thead>\n",
       "  <tbody>\n",
       "    <tr>\n",
       "      <th>0</th>\n",
       "      <td>Joining a 73 win team and act like you earned ...</td>\n",
       "      <td>4468</td>\n",
       "      <td>6gxezo</td>\n",
       "      <td>https://www.reddit.com/r/Thunder/comments/6gxe...</td>\n",
       "      <td>755</td>\n",
       "      <td>2017-06-13 06:49:44</td>\n",
       "      <td>Fuck Kevin Durant, no respect for that bitch.</td>\n",
       "      <td>thunder</td>\n",
       "    </tr>\n",
       "    <tr>\n",
       "      <th>1</th>\n",
       "      <td>Ah shit, here we go again</td>\n",
       "      <td>2830</td>\n",
       "      <td>bgr2z4</td>\n",
       "      <td>https://i.redd.it/xj8z21brj5u21.jpg</td>\n",
       "      <td>89</td>\n",
       "      <td>2019-04-24 08:59:14</td>\n",
       "      <td></td>\n",
       "      <td>thunder</td>\n",
       "    </tr>\n",
       "    <tr>\n",
       "      <th>2</th>\n",
       "      <td>MVP. Upvote this image so that when you google...</td>\n",
       "      <td>2669</td>\n",
       "      <td>ap0ja5</td>\n",
       "      <td>https://i.imgur.com/9KzKHpj.jpg</td>\n",
       "      <td>56</td>\n",
       "      <td>2019-02-10 06:10:32</td>\n",
       "      <td></td>\n",
       "      <td>thunder</td>\n",
       "    </tr>\n",
       "    <tr>\n",
       "      <th>3</th>\n",
       "      <td>BEST Mustache ever. If this gets enough upvote...</td>\n",
       "      <td>2418</td>\n",
       "      <td>5nh3is</td>\n",
       "      <td>https://i.redd.it/3p6et3v0e79y.jpg</td>\n",
       "      <td>51</td>\n",
       "      <td>2017-01-12 05:49:26</td>\n",
       "      <td></td>\n",
       "      <td>thunder</td>\n",
       "    </tr>\n",
       "    <tr>\n",
       "      <th>4</th>\n",
       "      <td>How many upvotes can we get for Mr.Thunder?</td>\n",
       "      <td>2196</td>\n",
       "      <td>8ih39t</td>\n",
       "      <td>http://imgur.com/c2GjJeD</td>\n",
       "      <td>47</td>\n",
       "      <td>2018-05-10 21:28:53</td>\n",
       "      <td></td>\n",
       "      <td>thunder</td>\n",
       "    </tr>\n",
       "  </tbody>\n",
       "</table>\n",
       "</div>"
      ],
      "text/plain": [
       "                                               title  score      id  \\\n",
       "0  Joining a 73 win team and act like you earned ...   4468  6gxezo   \n",
       "1                          Ah shit, here we go again   2830  bgr2z4   \n",
       "2  MVP. Upvote this image so that when you google...   2669  ap0ja5   \n",
       "3  BEST Mustache ever. If this gets enough upvote...   2418  5nh3is   \n",
       "4        How many upvotes can we get for Mr.Thunder?   2196  8ih39t   \n",
       "\n",
       "                                                 url  comms_num  \\\n",
       "0  https://www.reddit.com/r/Thunder/comments/6gxe...        755   \n",
       "1                https://i.redd.it/xj8z21brj5u21.jpg         89   \n",
       "2                    https://i.imgur.com/9KzKHpj.jpg         56   \n",
       "3                 https://i.redd.it/3p6et3v0e79y.jpg         51   \n",
       "4                           http://imgur.com/c2GjJeD         47   \n",
       "\n",
       "              created                                           body subreddit  \n",
       "0 2017-06-13 06:49:44  Fuck Kevin Durant, no respect for that bitch.   thunder  \n",
       "1 2019-04-24 08:59:14                                                  thunder  \n",
       "2 2019-02-10 06:10:32                                                  thunder  \n",
       "3 2017-01-12 05:49:26                                                  thunder  \n",
       "4 2018-05-10 21:28:53                                                  thunder  "
      ]
     },
     "execution_count": 14,
     "metadata": {},
     "output_type": "execute_result"
    }
   ],
   "source": [
    "subreddit_top.head()"
   ]
  },
  {
   "cell_type": "code",
   "execution_count": 15,
   "metadata": {},
   "outputs": [],
   "source": [
    "#https://stackoverflow.com/questions/997514/how-to-convert-datetime-to-a-number-with-a-precision-greater-than-days-in-t-sql\n",
    "\n",
    "\n",
    "#date date has formate of datetime.date(year,month,day)\n",
    "def datetime_to_int(date):\n",
    "    return 10000*date.year+100*date.month + date.day\n",
    "\n"
   ]
  },
  {
   "cell_type": "code",
   "execution_count": 16,
   "metadata": {},
   "outputs": [
    {
     "data": {
      "text/plain": [
       "20160703"
      ]
     },
     "execution_count": 16,
     "metadata": {},
     "output_type": "execute_result"
    }
   ],
   "source": [
    "datetime_to_int(dt.date(2016,7,3))"
   ]
  },
  {
   "cell_type": "code",
   "execution_count": 1,
   "metadata": {},
   "outputs": [],
   "source": [
    "#https://old.reddit.com/r/redditdev/comments/6tb9lg/scraping_old_data_past_1k_post_limit_removed_posts/\n"
   ]
  },
  {
   "cell_type": "code",
   "execution_count": 28,
   "metadata": {},
   "outputs": [],
   "source": []
  },
  {
   "cell_type": "code",
   "execution_count": null,
   "metadata": {},
   "outputs": [],
   "source": []
  },
  {
   "cell_type": "code",
   "execution_count": null,
   "metadata": {},
   "outputs": [],
   "source": []
  },
  {
   "cell_type": "code",
   "execution_count": 2,
   "metadata": {},
   "outputs": [],
   "source": [
    "#psaw"
   ]
  },
  {
   "cell_type": "code",
   "execution_count": 44,
   "metadata": {},
   "outputs": [],
   "source": [
    "def mathy(listy,k):\n",
    "    setty=set()\n",
    "    for item in listy:\n",
    "        #print(item)\n",
    "        for otheritem in listy:\n",
    "            #print(otheritem)\n",
    "            if item-otheritem ==k:\n",
    "                tupley=(item,otheritem)\n",
    "                setty.add(tupley)\n",
    "                #setty.append(tupley)\n",
    "                set(setty)\n",
    "    return setty"
   ]
  },
  {
   "cell_type": "code",
   "execution_count": 45,
   "metadata": {},
   "outputs": [
    {
     "data": {
      "text/plain": [
       "{(3, 1), (4, 2), (5, 3), (6, 4), (7, 5)}"
      ]
     },
     "execution_count": 45,
     "metadata": {},
     "output_type": "execute_result"
    }
   ],
   "source": [
    "b =[7,6,5,2,4,3,1,5]\n",
    "\n",
    "mathy(b,2)"
   ]
  },
  {
   "cell_type": "code",
   "execution_count": null,
   "metadata": {},
   "outputs": [],
   "source": []
  },
  {
   "cell_type": "code",
   "execution_count": null,
   "metadata": {},
   "outputs": [],
   "source": []
  }
 ],
 "metadata": {
  "kernelspec": {
   "display_name": "Python 3",
   "language": "python",
   "name": "python3"
  },
  "language_info": {
   "codemirror_mode": {
    "name": "ipython",
    "version": 3
   },
   "file_extension": ".py",
   "mimetype": "text/x-python",
   "name": "python",
   "nbconvert_exporter": "python",
   "pygments_lexer": "ipython3",
   "version": "3.6.8"
  }
 },
 "nbformat": 4,
 "nbformat_minor": 2
}
