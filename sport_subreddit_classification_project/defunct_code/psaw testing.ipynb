{
 "cells": [
  {
   "cell_type": "code",
   "execution_count": 46,
   "metadata": {},
   "outputs": [],
   "source": [
    "import pandas as pd\n",
    "import praw\n",
    "import datetime as dt\n",
    "from psaw import PushshiftAPI\n",
    "import time"
   ]
  },
  {
   "cell_type": "code",
   "execution_count": 2,
   "metadata": {},
   "outputs": [],
   "source": [
    "reddit = praw.Reddit(client_id = 'z0kFNVU4LySc_A',     #this is that personal use script key\n",
    "                     client_secret = 'M0Pt_9h3GsIk7aGLtwmChlC5i8w', #this is that secret key\n",
    "                     user_agent = 'Scraper',    #Whatever name you gave your application\n",
    "                     username = 'scrapper_dan_982',      #your Reddit user name\n",
    "                     password = 'ButtsButts1')      #your Reddit password"
   ]
  },
  {
   "cell_type": "code",
   "execution_count": 3,
   "metadata": {},
   "outputs": [],
   "source": [
    "api = PushshiftAPI(reddit)"
   ]
  },
  {
   "cell_type": "code",
   "execution_count": 73,
   "metadata": {},
   "outputs": [],
   "source": [
    "#creating time spans\n",
    "three_yrs_ago = int(dt.datetime(2016,6,12).timestamp())\n",
    "two_yrs_ago= int(dt.datetime(2017,6,12).timestamp())\n",
    "one_yr_ago= int(dt.datetime(2018,6,12).timestamp())\n",
    "zero_yr_ago = int(dt.datetime(2019,7,3).timestamp())"
   ]
  },
  {
   "cell_type": "code",
   "execution_count": 17,
   "metadata": {},
   "outputs": [
    {
     "ename": "TypeError",
     "evalue": "'list' object is not callable",
     "output_type": "error",
     "traceback": [
      "\u001b[0;31m---------------------------------------------------------------------------\u001b[0m",
      "\u001b[0;31mTypeError\u001b[0m                                 Traceback (most recent call last)",
      "\u001b[0;32m<ipython-input-17-77ca646f12b0>\u001b[0m in \u001b[0;36m<module>\u001b[0;34m\u001b[0m\n\u001b[1;32m      6\u001b[0m                             \u001b[0msubreddit\u001b[0m\u001b[0;34m=\u001b[0m\u001b[0;34m'politics'\u001b[0m\u001b[0;34m,\u001b[0m\u001b[0;34m\u001b[0m\u001b[0;34m\u001b[0m\u001b[0m\n\u001b[1;32m      7\u001b[0m                             \u001b[0mfilter\u001b[0m\u001b[0;34m=\u001b[0m\u001b[0;34m[\u001b[0m\u001b[0;34m'url'\u001b[0m\u001b[0;34m,\u001b[0m\u001b[0;34m'author'\u001b[0m\u001b[0;34m,\u001b[0m \u001b[0;34m'title'\u001b[0m\u001b[0;34m,\u001b[0m \u001b[0;34m'subreddit'\u001b[0m\u001b[0;34m]\u001b[0m\u001b[0;34m,\u001b[0m\u001b[0;34m\u001b[0m\u001b[0;34m\u001b[0m\u001b[0m\n\u001b[0;32m----> 8\u001b[0;31m                             limit=10))\n\u001b[0m",
      "\u001b[0;31mTypeError\u001b[0m: 'list' object is not callable"
     ]
    }
   ],
   "source": [
    "# import datetime as dt\n",
    "\n",
    "# start_epoch=int(dt.datetime(2017, 1, 1).timestamp())\n",
    "\n",
    "# list(api.search_submissions(after=start_epoch,\n",
    "#                             subreddit='politics',\n",
    "#                             filter=['url','author', 'title', 'subreddit'],\n",
    "#                             limit=10))"
   ]
  },
  {
   "cell_type": "code",
   "execution_count": 18,
   "metadata": {},
   "outputs": [
    {
     "data": {
      "text/html": [
       "<div>\n",
       "<style scoped>\n",
       "    .dataframe tbody tr th:only-of-type {\n",
       "        vertical-align: middle;\n",
       "    }\n",
       "\n",
       "    .dataframe tbody tr th {\n",
       "        vertical-align: top;\n",
       "    }\n",
       "\n",
       "    .dataframe thead th {\n",
       "        text-align: right;\n",
       "    }\n",
       "</style>\n",
       "<table border=\"1\" class=\"dataframe\">\n",
       "  <thead>\n",
       "    <tr style=\"text-align: right;\">\n",
       "      <th></th>\n",
       "      <th>title</th>\n",
       "    </tr>\n",
       "  </thead>\n",
       "  <tbody>\n",
       "    <tr>\n",
       "      <th>0</th>\n",
       "      <td>Biden’s Iowa support crumbles in new poll</td>\n",
       "    </tr>\n",
       "    <tr>\n",
       "      <th>1</th>\n",
       "      <td>16-foot-tall 'Dumping Trump' robot to join pro...</td>\n",
       "    </tr>\n",
       "    <tr>\n",
       "      <th>2</th>\n",
       "      <td>Bernie Sanders Predicts His $10,000 Tax Hike W...</td>\n",
       "    </tr>\n",
       "    <tr>\n",
       "      <th>3</th>\n",
       "      <td>Military chiefs have concerns about politiciza...</td>\n",
       "    </tr>\n",
       "    <tr>\n",
       "      <th>4</th>\n",
       "      <td>Photo of 'Thomas from Washington' in Trump’s 2...</td>\n",
       "    </tr>\n",
       "    <tr>\n",
       "      <th>5</th>\n",
       "      <td>President Trump sows confusion over census pla...</td>\n",
       "    </tr>\n",
       "    <tr>\n",
       "      <th>6</th>\n",
       "      <td>Alabama DA drops charges against woman indicte...</td>\n",
       "    </tr>\n",
       "    <tr>\n",
       "      <th>7</th>\n",
       "      <td>Whose independence? Why some Native Hawaiians ...</td>\n",
       "    </tr>\n",
       "    <tr>\n",
       "      <th>8</th>\n",
       "      <td>U.S. judge blocks Ohio anti-abortion law</td>\n",
       "    </tr>\n",
       "    <tr>\n",
       "      <th>9</th>\n",
       "      <td>Thank you, President Trump, for your military ...</td>\n",
       "    </tr>\n",
       "  </tbody>\n",
       "</table>\n",
       "</div>"
      ],
      "text/plain": [
       "                                               title\n",
       "0          Biden’s Iowa support crumbles in new poll\n",
       "1  16-foot-tall 'Dumping Trump' robot to join pro...\n",
       "2  Bernie Sanders Predicts His $10,000 Tax Hike W...\n",
       "3  Military chiefs have concerns about politiciza...\n",
       "4  Photo of 'Thomas from Washington' in Trump’s 2...\n",
       "5  President Trump sows confusion over census pla...\n",
       "6  Alabama DA drops charges against woman indicte...\n",
       "7  Whose independence? Why some Native Hawaiians ...\n",
       "8           U.S. judge blocks Ohio anti-abortion law\n",
       "9  Thank you, President Trump, for your military ..."
      ]
     },
     "execution_count": 18,
     "metadata": {},
     "output_type": "execute_result"
    }
   ],
   "source": [
    "#nate taught me how to approach this\n",
    "\n",
    "bananana = []\n",
    "\n",
    "for i in api.search_submissions(after=start_epoch,\n",
    "                            subreddit='politics',\n",
    "                            filter=['url','author', 'title', 'subreddit'],\n",
    "                            limit=10):\n",
    "    if i.\n",
    "    dic = {}\n",
    "    dic['title'] = i.title \n",
    "    bananana.append(dic)\n",
    "\n",
    "pd.DataFrame(bananana)"
   ]
  },
  {
   "cell_type": "code",
   "execution_count": 65,
   "metadata": {},
   "outputs": [],
   "source": [
    "thunder_content_three_years_ago = []\n",
    "\n",
    "counter = 0\n",
    "for i in api.search_submissions(after=three_yrs_ago,before=two_yrs_ago,\n",
    "                      subreddit='thunder',\n",
    "#                 filter=[\n",
    "#                 \"title\",\n",
    "# #                 \"score\",\n",
    "# #                 \"id\",\n",
    "#                 \"url\", \n",
    "#                  \"num_comments\",\n",
    "# #                 \"created\",\n",
    "#                  \"body\"\n",
    "#                       ],\n",
    "                      limit=7000):\n",
    "    if counter %1000 ==0:\n",
    "        time.sleep(1)\n",
    "    if i.num_comments>1:\n",
    "        dic = {}\n",
    "        dic['num_comments']=i.num_comments\n",
    "        dic['title'] = i.title\n",
    "        dic[\"url\"] = i.url\n",
    "        dic['body']=i.selftext\n",
    "        dic['score']=i.score\n",
    "        dic['body+title'] = i.title+\" \"+i.selftext\n",
    "#        print(vars(i))\n",
    "        thunder_content_three_years_ago.append(dic)\n",
    "        counter +=1\n",
    "    \n",
    "    \n",
    "\n",
    "thunder_3_yrs_df=pd.DataFrame(thunder_content_three_years_ago)"
   ]
  },
  {
   "cell_type": "code",
   "execution_count": 72,
   "metadata": {},
   "outputs": [
    {
     "data": {
      "text/plain": [
       "\"Best play of the regular season for the Thunder Hey, what's up guys! I'm making a video on every team's best play/moment for the regular season as voted in the comments. the highest upvoted comment here will be the play/moment I use for your team! Thanks in advance, I'm going to post it to r/nba once it's completed!\""
      ]
     },
     "execution_count": 72,
     "metadata": {},
     "output_type": "execute_result"
    }
   ],
   "source": [
    "thunder_3_yrs_df\n",
    "#limit 10k gave 4977 rows\n",
    "#limit 5k gave 3430 rows\n",
    "#limit 7k gave 4802\n",
    "thunder_3_yrs_df['body+title'][0]"
   ]
  },
  {
   "cell_type": "code",
   "execution_count": 74,
   "metadata": {},
   "outputs": [],
   "source": [
    "thunder_content_two_years_ago = []\n",
    "\n",
    "counter = 0\n",
    "for i in api.search_submissions(after=two_yrs_ago,before=one_yr_ago,\n",
    "                      subreddit='thunder',\n",
    "#                 filter=[\n",
    "#                 \"title\",\n",
    "# #                 \"score\",\n",
    "# #                 \"id\",\n",
    "#                 \"url\", \n",
    "#                  \"num_comments\",\n",
    "# #                 \"created\",\n",
    "#                  \"body\"\n",
    "#                       ],\n",
    "                      limit=7000):\n",
    "    if counter %1000 ==0:\n",
    "        time.sleep(1)\n",
    "    if i.num_comments>1:\n",
    "        dic = {}\n",
    "        dic['num_comments']=i.num_comments\n",
    "        dic['title'] = i.title\n",
    "        dic[\"url\"] = i.url\n",
    "        dic['body']=i.selftext\n",
    "        dic['score']=i.score\n",
    "        dic['body+title'] = i.title+\" \"+i.selftext\n",
    "#        print(vars(i))\n",
    "        thunder_content_two_years_ago.append(dic)\n",
    "        counter +=1\n",
    "    \n",
    "    \n",
    "\n",
    "thunder_2_yrs_df=pd.DataFrame(thunder_content_two_years_ago)"
   ]
  },
  {
   "cell_type": "code",
   "execution_count": 75,
   "metadata": {},
   "outputs": [
    {
     "data": {
      "text/html": [
       "<div>\n",
       "<style scoped>\n",
       "    .dataframe tbody tr th:only-of-type {\n",
       "        vertical-align: middle;\n",
       "    }\n",
       "\n",
       "    .dataframe tbody tr th {\n",
       "        vertical-align: top;\n",
       "    }\n",
       "\n",
       "    .dataframe thead th {\n",
       "        text-align: right;\n",
       "    }\n",
       "</style>\n",
       "<table border=\"1\" class=\"dataframe\">\n",
       "  <thead>\n",
       "    <tr style=\"text-align: right;\">\n",
       "      <th></th>\n",
       "      <th>body</th>\n",
       "      <th>body+title</th>\n",
       "      <th>num_comments</th>\n",
       "      <th>score</th>\n",
       "      <th>title</th>\n",
       "      <th>url</th>\n",
       "    </tr>\n",
       "  </thead>\n",
       "  <tbody>\n",
       "    <tr>\n",
       "      <th>0</th>\n",
       "      <td>Do you guys know any good G-League Players we ...</td>\n",
       "      <td>OKC offseason question Do you guys know any go...</td>\n",
       "      <td>3</td>\n",
       "      <td>2</td>\n",
       "      <td>OKC offseason question</td>\n",
       "      <td>https://www.reddit.com/r/Thunder/comments/8qg8...</td>\n",
       "    </tr>\n",
       "    <tr>\n",
       "      <th>1</th>\n",
       "      <td></td>\n",
       "      <td>Footage of Billy Donovan giving detailed instr...</td>\n",
       "      <td>4</td>\n",
       "      <td>26</td>\n",
       "      <td>Footage of Billy Donovan giving detailed instr...</td>\n",
       "      <td>https://youtu.be/DOr0Iic1R10?t=1343</td>\n",
       "    </tr>\n",
       "    <tr>\n",
       "      <th>2</th>\n",
       "      <td></td>\n",
       "      <td>PG's wife/gf Daniel started following a house ...</td>\n",
       "      <td>12</td>\n",
       "      <td>4</td>\n",
       "      <td>PG's wife/gf Daniel started following a house ...</td>\n",
       "      <td>https://i.redd.it/fvw71vaxoh311.png</td>\n",
       "    </tr>\n",
       "    <tr>\n",
       "      <th>3</th>\n",
       "      <td>Our owners and Presti are willing to pay at ex...</td>\n",
       "      <td>I don't want to hear LeBron to OKC won't work,...</td>\n",
       "      <td>15</td>\n",
       "      <td>42</td>\n",
       "      <td>I don't want to hear LeBron to OKC won't work,...</td>\n",
       "      <td>https://www.reddit.com/r/Thunder/comments/8qf7...</td>\n",
       "    </tr>\n",
       "    <tr>\n",
       "      <th>4</th>\n",
       "      <td></td>\n",
       "      <td>Apple Jacks and white chocolate, you hear me, ...</td>\n",
       "      <td>2</td>\n",
       "      <td>21</td>\n",
       "      <td>Apple Jacks and white chocolate, you hear me, ...</td>\n",
       "      <td>https://youtu.be/08vIy0y1N9I</td>\n",
       "    </tr>\n",
       "  </tbody>\n",
       "</table>\n",
       "</div>"
      ],
      "text/plain": [
       "                                                body  \\\n",
       "0  Do you guys know any good G-League Players we ...   \n",
       "1                                                      \n",
       "2                                                      \n",
       "3  Our owners and Presti are willing to pay at ex...   \n",
       "4                                                      \n",
       "\n",
       "                                          body+title  num_comments  score  \\\n",
       "0  OKC offseason question Do you guys know any go...             3      2   \n",
       "1  Footage of Billy Donovan giving detailed instr...             4     26   \n",
       "2  PG's wife/gf Daniel started following a house ...            12      4   \n",
       "3  I don't want to hear LeBron to OKC won't work,...            15     42   \n",
       "4  Apple Jacks and white chocolate, you hear me, ...             2     21   \n",
       "\n",
       "                                               title  \\\n",
       "0                             OKC offseason question   \n",
       "1  Footage of Billy Donovan giving detailed instr...   \n",
       "2  PG's wife/gf Daniel started following a house ...   \n",
       "3  I don't want to hear LeBron to OKC won't work,...   \n",
       "4  Apple Jacks and white chocolate, you hear me, ...   \n",
       "\n",
       "                                                 url  \n",
       "0  https://www.reddit.com/r/Thunder/comments/8qg8...  \n",
       "1                https://youtu.be/DOr0Iic1R10?t=1343  \n",
       "2                https://i.redd.it/fvw71vaxoh311.png  \n",
       "3  https://www.reddit.com/r/Thunder/comments/8qf7...  \n",
       "4                       https://youtu.be/08vIy0y1N9I  "
      ]
     },
     "execution_count": 75,
     "metadata": {},
     "output_type": "execute_result"
    }
   ],
   "source": [
    "thunder_2_yrs_df.head()"
   ]
  },
  {
   "cell_type": "code",
   "execution_count": null,
   "metadata": {},
   "outputs": [],
   "source": []
  }
 ],
 "metadata": {
  "kernelspec": {
   "display_name": "Python 3",
   "language": "python",
   "name": "python3"
  },
  "language_info": {
   "codemirror_mode": {
    "name": "ipython",
    "version": 3
   },
   "file_extension": ".py",
   "mimetype": "text/x-python",
   "name": "python",
   "nbconvert_exporter": "python",
   "pygments_lexer": "ipython3",
   "version": "3.6.8"
  }
 },
 "nbformat": 4,
 "nbformat_minor": 2
}
