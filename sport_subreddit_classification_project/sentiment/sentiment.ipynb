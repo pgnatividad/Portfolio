{
 "cells": [
  {
   "cell_type": "code",
   "execution_count": 2,
   "metadata": {},
   "outputs": [],
   "source": [
    "import pandas as pd\n",
    "import matplotlib.pyplot as plt\n",
    "import numpy as np\n",
    "\n",
    "from nltk.sentiment.vader import SentimentIntensityAnalyzer\n",
    "from sklearn.feature_extraction.text import TfidfVectorizer, CountVectorizer\n",
    "from sklearn.linear_model import LogisticRegression\n",
    "from sklearn.model_selection import GridSearchCV, train_test_split\n",
    "from sklearn.pipeline import Pipeline\n",
    "\n",
    "\n"
   ]
  },
  {
   "cell_type": "code",
   "execution_count": 3,
   "metadata": {},
   "outputs": [],
   "source": [
    "thunder_3y = pd.read_csv('../datasets/thunder/tc_3yr_4com.csv')\n",
    "thunder_2y = pd.read_csv('../datasets/thunder/tc_2yr_4com.csv')\n",
    "thunder_1y = pd.read_csv('../datasets/thunder/tc_1yr_4com.csv')"
   ]
  },
  {
   "cell_type": "code",
   "execution_count": 4,
   "metadata": {},
   "outputs": [],
   "source": [
    "bulls_3y = pd.read_csv('../datasets/bulls/bc_3yrs_4com.csv')\n",
    "bulls_2y = pd.read_csv('../datasets/bulls/bc_2yrs_4com.csv')\n",
    "bulls_1y = pd.read_csv('../datasets/bulls/bc_1yrs_4com.csv')"
   ]
  },
  {
   "cell_type": "code",
   "execution_count": 5,
   "metadata": {},
   "outputs": [],
   "source": [
    "thunder_1y['timeframe']='1_yr'\n",
    "thunder_2y['timeframe']='2_yr'\n",
    "thunder_3y['timeframe']='3_yr'\n",
    "thunder_df = pd.concat([thunder_1y,thunder_2y,thunder_3y])"
   ]
  },
  {
   "cell_type": "code",
   "execution_count": 6,
   "metadata": {},
   "outputs": [],
   "source": [
    "bulls_1y['timeframe']='1_yr'\n",
    "bulls_2y['timeframe']='2_yr'\n",
    "bulls_3y['timeframe']='3_yr'\n",
    "bulls_df = pd.concat([bulls_3y,bulls_2y,bulls_1y])"
   ]
  },
  {
   "cell_type": "code",
   "execution_count": 7,
   "metadata": {},
   "outputs": [],
   "source": [
    "sia = SentimentIntensityAnalyzer()"
   ]
  },
  {
   "cell_type": "code",
   "execution_count": 8,
   "metadata": {},
   "outputs": [],
   "source": [
    "thunder_df['is_thunder'] = 'Thunder'\n",
    "bulls_df['is_thunder'] = 'Bulls'"
   ]
  },
  {
   "cell_type": "code",
   "execution_count": 9,
   "metadata": {},
   "outputs": [],
   "source": [
    "combined_df = pd.concat([thunder_df,bulls_df])"
   ]
  },
  {
   "cell_type": "code",
   "execution_count": 10,
   "metadata": {},
   "outputs": [],
   "source": [
    "c_corp = list(combined_df['body+title'])"
   ]
  },
  {
   "cell_type": "code",
   "execution_count": 11,
   "metadata": {},
   "outputs": [
    {
     "data": {
      "text/html": [
       "<div>\n",
       "<style scoped>\n",
       "    .dataframe tbody tr th:only-of-type {\n",
       "        vertical-align: middle;\n",
       "    }\n",
       "\n",
       "    .dataframe tbody tr th {\n",
       "        vertical-align: top;\n",
       "    }\n",
       "\n",
       "    .dataframe thead th {\n",
       "        text-align: right;\n",
       "    }\n",
       "</style>\n",
       "<table border=\"1\" class=\"dataframe\">\n",
       "  <thead>\n",
       "    <tr style=\"text-align: right;\">\n",
       "      <th></th>\n",
       "      <th>body+text</th>\n",
       "      <th>compound</th>\n",
       "      <th>neg</th>\n",
       "      <th>neu</th>\n",
       "      <th>pos</th>\n",
       "    </tr>\n",
       "  </thead>\n",
       "  <tbody>\n",
       "    <tr>\n",
       "      <th>0</th>\n",
       "      <td>One year ago, Paul George brought tears to our...</td>\n",
       "      <td>0.9468</td>\n",
       "      <td>0.036</td>\n",
       "      <td>0.571</td>\n",
       "      <td>0.393</td>\n",
       "    </tr>\n",
       "    <tr>\n",
       "      <th>1</th>\n",
       "      <td>Won't happen lineup that i want to happen. [de...</td>\n",
       "      <td>0.0772</td>\n",
       "      <td>0.000</td>\n",
       "      <td>0.843</td>\n",
       "      <td>0.157</td>\n",
       "    </tr>\n",
       "    <tr>\n",
       "      <th>2</th>\n",
       "      <td>Deonte Burton putting on a CLINIC and hitting ...</td>\n",
       "      <td>0.5859</td>\n",
       "      <td>0.000</td>\n",
       "      <td>0.774</td>\n",
       "      <td>0.226</td>\n",
       "    </tr>\n",
       "    <tr>\n",
       "      <th>3</th>\n",
       "      <td>[Question] Mavs fan coming in peace What's the...</td>\n",
       "      <td>0.5705</td>\n",
       "      <td>0.054</td>\n",
       "      <td>0.797</td>\n",
       "      <td>0.149</td>\n",
       "    </tr>\n",
       "    <tr>\n",
       "      <th>4</th>\n",
       "      <td>No more thicc Burton our boy got slim and look...</td>\n",
       "      <td>0.5399</td>\n",
       "      <td>0.105</td>\n",
       "      <td>0.670</td>\n",
       "      <td>0.224</td>\n",
       "    </tr>\n",
       "  </tbody>\n",
       "</table>\n",
       "</div>"
      ],
      "text/plain": [
       "                                           body+text  compound    neg    neu  \\\n",
       "0  One year ago, Paul George brought tears to our...    0.9468  0.036  0.571   \n",
       "1  Won't happen lineup that i want to happen. [de...    0.0772  0.000  0.843   \n",
       "2  Deonte Burton putting on a CLINIC and hitting ...    0.5859  0.000  0.774   \n",
       "3  [Question] Mavs fan coming in peace What's the...    0.5705  0.054  0.797   \n",
       "4  No more thicc Burton our boy got slim and look...    0.5399  0.105  0.670   \n",
       "\n",
       "     pos  \n",
       "0  0.393  \n",
       "1  0.157  \n",
       "2  0.226  \n",
       "3  0.149  \n",
       "4  0.224  "
      ]
     },
     "execution_count": 11,
     "metadata": {},
     "output_type": "execute_result"
    }
   ],
   "source": [
    "#adapted from a Heather Robbins lesson\n",
    "dicts = []    \n",
    "\n",
    "for post in c_corp:\n",
    "    scores = sia.polarity_scores(post)\n",
    "    scores['body+text'] = post\n",
    "    dicts.append(scores)\n",
    "\n",
    "c_sent = pd.DataFrame(dicts)\n",
    "c_sent.head()"
   ]
  },
  {
   "cell_type": "code",
   "execution_count": 12,
   "metadata": {},
   "outputs": [],
   "source": [
    "c_sent['Subreddit']=combined_df['is_thunder'].values"
   ]
  },
  {
   "cell_type": "code",
   "execution_count": 13,
   "metadata": {},
   "outputs": [
    {
     "data": {
      "text/plain": [
       "Text(0.5, 1.0, 'Comparison Between\\nBulls and Thunder Subreddits')"
      ]
     },
     "execution_count": 13,
     "metadata": {},
     "output_type": "execute_result"
    },
    {
     "data": {
      "image/png": "[encoded data removed]",
      "text/plain": [
       "<Figure size 432x288 with 1 Axes>"
      ]
     },
     "metadata": {
      "needs_background": "light"
     },
     "output_type": "display_data"
    }
   ],
   "source": [
    "c_sent.groupby('Subreddit').mean()[['pos', 'neg', 'compound']]\\\n",
    ".plot(kind='bar')\n",
    "plt.ylabel('Scores')\n",
    "plt.xticks(rotation=0)\n",
    "plt.title('Comparison Between\\nBulls and Thunder Subreddits')"
   ]
  },
  {
   "cell_type": "code",
   "execution_count": null,
   "metadata": {},
   "outputs": [],
   "source": [
    "#Seeing if there is a statistical difference in sentiment scores"
   ]
  },
  {
   "cell_type": "code",
   "execution_count": 23,
   "metadata": {},
   "outputs": [
    {
     "data": {
      "text/plain": [
       "F_onewayResult(statistic=121.23938385915115, pvalue=3.9404516734805193e-28)"
      ]
     },
     "execution_count": 23,
     "metadata": {},
     "output_type": "execute_result"
    }
   ],
   "source": [
    "stats.f_oneway(c_sent['pos'][c_sent['Subreddit']=='Thunder'],\n",
    "               c_sent['pos'][c_sent['Subreddit']=='Bulls'],\n",
    "              )"
   ]
  },
  {
   "cell_type": "code",
   "execution_count": 24,
   "metadata": {},
   "outputs": [
    {
     "data": {
      "text/plain": [
       "F_onewayResult(statistic=332.6928632196224, pvalue=7.645911937842811e-74)"
      ]
     },
     "execution_count": 24,
     "metadata": {},
     "output_type": "execute_result"
    }
   ],
   "source": [
    "stats.f_oneway(c_sent['neg'][c_sent['Subreddit']=='Thunder'],\n",
    "               c_sent['neg'][c_sent['Subreddit']=='Bulls'],\n",
    "              )"
   ]
  },
  {
   "cell_type": "code",
   "execution_count": 25,
   "metadata": {},
   "outputs": [
    {
     "data": {
      "text/plain": [
       "F_onewayResult(statistic=24.707244747622905, pvalue=6.718112541321712e-07)"
      ]
     },
     "execution_count": 25,
     "metadata": {},
     "output_type": "execute_result"
    }
   ],
   "source": [
    "stats.f_oneway(c_sent['compound'][c_sent['Subreddit']=='Thunder'],\n",
    "               c_sent['compound'][c_sent['Subreddit']=='Bulls'],\n",
    "              )"
   ]
  },
  {
   "cell_type": "code",
   "execution_count": null,
   "metadata": {},
   "outputs": [],
   "source": [
    "#performing sentiment analysis over time on the Thunder Subreddit"
   ]
  },
  {
   "cell_type": "code",
   "execution_count": 14,
   "metadata": {},
   "outputs": [],
   "source": [
    "thunder_corp = list(thunder_df['body+title'])"
   ]
  },
  {
   "cell_type": "code",
   "execution_count": 15,
   "metadata": {},
   "outputs": [
    {
     "data": {
      "text/html": [
       "<div>\n",
       "<style scoped>\n",
       "    .dataframe tbody tr th:only-of-type {\n",
       "        vertical-align: middle;\n",
       "    }\n",
       "\n",
       "    .dataframe tbody tr th {\n",
       "        vertical-align: top;\n",
       "    }\n",
       "\n",
       "    .dataframe thead th {\n",
       "        text-align: right;\n",
       "    }\n",
       "</style>\n",
       "<table border=\"1\" class=\"dataframe\">\n",
       "  <thead>\n",
       "    <tr style=\"text-align: right;\">\n",
       "      <th></th>\n",
       "      <th>body+text</th>\n",
       "      <th>compound</th>\n",
       "      <th>neg</th>\n",
       "      <th>neu</th>\n",
       "      <th>pos</th>\n",
       "    </tr>\n",
       "  </thead>\n",
       "  <tbody>\n",
       "    <tr>\n",
       "      <th>0</th>\n",
       "      <td>One year ago, Paul George brought tears to our...</td>\n",
       "      <td>0.9468</td>\n",
       "      <td>0.036</td>\n",
       "      <td>0.571</td>\n",
       "      <td>0.393</td>\n",
       "    </tr>\n",
       "    <tr>\n",
       "      <th>1</th>\n",
       "      <td>Won't happen lineup that i want to happen. [de...</td>\n",
       "      <td>0.0772</td>\n",
       "      <td>0.000</td>\n",
       "      <td>0.843</td>\n",
       "      <td>0.157</td>\n",
       "    </tr>\n",
       "    <tr>\n",
       "      <th>2</th>\n",
       "      <td>Deonte Burton putting on a CLINIC and hitting ...</td>\n",
       "      <td>0.5859</td>\n",
       "      <td>0.000</td>\n",
       "      <td>0.774</td>\n",
       "      <td>0.226</td>\n",
       "    </tr>\n",
       "    <tr>\n",
       "      <th>3</th>\n",
       "      <td>[Question] Mavs fan coming in peace What's the...</td>\n",
       "      <td>0.5705</td>\n",
       "      <td>0.054</td>\n",
       "      <td>0.797</td>\n",
       "      <td>0.149</td>\n",
       "    </tr>\n",
       "    <tr>\n",
       "      <th>4</th>\n",
       "      <td>No more thicc Burton our boy got slim and look...</td>\n",
       "      <td>0.5399</td>\n",
       "      <td>0.105</td>\n",
       "      <td>0.670</td>\n",
       "      <td>0.224</td>\n",
       "    </tr>\n",
       "  </tbody>\n",
       "</table>\n",
       "</div>"
      ],
      "text/plain": [
       "                                           body+text  compound    neg    neu  \\\n",
       "0  One year ago, Paul George brought tears to our...    0.9468  0.036  0.571   \n",
       "1  Won't happen lineup that i want to happen. [de...    0.0772  0.000  0.843   \n",
       "2  Deonte Burton putting on a CLINIC and hitting ...    0.5859  0.000  0.774   \n",
       "3  [Question] Mavs fan coming in peace What's the...    0.5705  0.054  0.797   \n",
       "4  No more thicc Burton our boy got slim and look...    0.5399  0.105  0.670   \n",
       "\n",
       "     pos  \n",
       "0  0.393  \n",
       "1  0.157  \n",
       "2  0.226  \n",
       "3  0.149  \n",
       "4  0.224  "
      ]
     },
     "execution_count": 15,
     "metadata": {},
     "output_type": "execute_result"
    }
   ],
   "source": [
    "\n",
    "dicts = []    \n",
    "\n",
    "for post in thunder_corp:\n",
    "    scores = sia.polarity_scores(post)\n",
    "    scores['body+text'] = post\n",
    "    dicts.append(scores)\n",
    "\n",
    "c_thunder_sent = pd.DataFrame(dicts)\n",
    "c_thunder_sent.head()"
   ]
  },
  {
   "cell_type": "code",
   "execution_count": 16,
   "metadata": {},
   "outputs": [],
   "source": [
    "c_thunder_sent['timeframe']=thunder_df['timeframe'].values"
   ]
  },
  {
   "cell_type": "code",
   "execution_count": 17,
   "metadata": {},
   "outputs": [
    {
     "data": {
      "text/plain": [
       "compound    0.186868\n",
       "neg         0.068143\n",
       "pos         0.117678\n",
       "dtype: float64"
      ]
     },
     "execution_count": 17,
     "metadata": {},
     "output_type": "execute_result"
    }
   ],
   "source": [
    "X=c_thunder_sent.drop(['body+text','neu','timeframe'],axis=1).columns\n",
    "\n",
    "c_thunder_sent[X].mean()"
   ]
  },
  {
   "cell_type": "code",
   "execution_count": 18,
   "metadata": {},
   "outputs": [
    {
     "data": {
      "text/plain": [
       "Text(0, 0.5, 'Scores')"
      ]
     },
     "execution_count": 18,
     "metadata": {},
     "output_type": "execute_result"
    },
    {
     "data": {
      "text/plain": [
       "<Figure size 144x144 with 0 Axes>"
      ]
     },
     "metadata": {},
     "output_type": "display_data"
    },
    {
     "data": {
      "image/png": "[encoded data removed]",
      "text/plain": [
       "<Figure size 432x288 with 1 Axes>"
      ]
     },
     "metadata": {
      "needs_background": "light"
     },
     "output_type": "display_data"
    }
   ],
   "source": [
    "plt.figure(figsize=(2,2))\n",
    "c_thunder_sent.groupby('timeframe').mean()[['pos', 'neg', 'compound']]\\\n",
    ".plot(kind='bar')\n",
    "\n",
    "plt.legend(loc='upper left',bbox_to_anchor=(1,1))\n",
    "plt.xticks(rotation=0)\n",
    "plt.title('Thunder Sentiment Analysis \\nOver the Last 3 Years')\n",
    "plt.ylabel(\"Scores\")"
   ]
  },
  {
   "cell_type": "code",
   "execution_count": 19,
   "metadata": {},
   "outputs": [],
   "source": [
    "import scipy.stats as stats"
   ]
  },
  {
   "cell_type": "code",
   "execution_count": 20,
   "metadata": {},
   "outputs": [
    {
     "data": {
      "text/plain": [
       "F_onewayResult(statistic=1.7124639372146482, pvalue=0.18046234402713243)"
      ]
     },
     "execution_count": 20,
     "metadata": {},
     "output_type": "execute_result"
    }
   ],
   "source": [
    "stats.f_oneway(c_thunder_sent['pos'][c_thunder_sent['timeframe']=='1_yr'],\n",
    "              c_thunder_sent['pos'][c_thunder_sent['timeframe']=='2_yr'],\n",
    "              c_thunder_sent['pos'][c_thunder_sent['timeframe']=='3_yr'])"
   ]
  },
  {
   "cell_type": "code",
   "execution_count": 21,
   "metadata": {},
   "outputs": [
    {
     "data": {
      "text/plain": [
       "F_onewayResult(statistic=0.49693862737090155, pvalue=0.608402146939334)"
      ]
     },
     "execution_count": 21,
     "metadata": {},
     "output_type": "execute_result"
    }
   ],
   "source": [
    "stats.f_oneway(c_thunder_sent['neg'][c_thunder_sent['timeframe']=='1_yr'],\n",
    "              c_thunder_sent['neg'][c_thunder_sent['timeframe']=='2_yr'],\n",
    "              c_thunder_sent['neg'][c_thunder_sent['timeframe']=='3_yr'])"
   ]
  },
  {
   "cell_type": "code",
   "execution_count": 22,
   "metadata": {},
   "outputs": [
    {
     "data": {
      "text/plain": [
       "F_onewayResult(statistic=2.403399319152795, pvalue=0.0904512047212565)"
      ]
     },
     "execution_count": 22,
     "metadata": {},
     "output_type": "execute_result"
    }
   ],
   "source": [
    "stats.f_oneway(c_thunder_sent['compound'][c_thunder_sent['timeframe']=='1_yr'],\n",
    "              c_thunder_sent['compound'][c_thunder_sent['timeframe']=='2_yr'],\n",
    "              c_thunder_sent['compound'][c_thunder_sent['timeframe']=='3_yr'])"
   ]
  },
  {
   "cell_type": "code",
   "execution_count": null,
   "metadata": {},
   "outputs": [],
   "source": []
  }
 ],
 "metadata": {
  "kernelspec": {
   "display_name": "Python 3",
   "language": "python",
   "name": "python3"
  },
  "language_info": {
   "codemirror_mode": {
    "name": "ipython",
    "version": 3
   },
   "file_extension": ".py",
   "mimetype": "text/x-python",
   "name": "python",
   "nbconvert_exporter": "python",
   "pygments_lexer": "ipython3",
   "version": "3.6.8"
  }
 },
 "nbformat": 4,
 "nbformat_minor": 2
}
