{
 "cells": [
  {
   "cell_type": "code",
   "execution_count": 61,
   "metadata": {},
   "outputs": [],
   "source": [
    "import pandas as pd\n",
    "import matplotlib.pyplot as plt\n",
    "import datetime\n",
    "from scipy.stats import ttest_ind_from_stats"
   ]
  },
  {
   "cell_type": "code",
   "execution_count": 13,
   "metadata": {},
   "outputs": [],
   "source": [
    "data = pd.read_csv(\"data.csv\")"
   ]
  },
  {
   "cell_type": "code",
   "execution_count": 14,
   "metadata": {},
   "outputs": [
    {
     "data": {
      "text/html": [
       "<div>\n",
       "<style scoped>\n",
       "    .dataframe tbody tr th:only-of-type {\n",
       "        vertical-align: middle;\n",
       "    }\n",
       "\n",
       "    .dataframe tbody tr th {\n",
       "        vertical-align: top;\n",
       "    }\n",
       "\n",
       "    .dataframe thead th {\n",
       "        text-align: right;\n",
       "    }\n",
       "</style>\n",
       "<table border=\"1\" class=\"dataframe\">\n",
       "  <thead>\n",
       "    <tr style=\"text-align: right;\">\n",
       "      <th></th>\n",
       "      <th>get_on_train</th>\n",
       "      <th>get_off_train</th>\n",
       "      <th>get_on_blue</th>\n",
       "      <th>get_off_blue</th>\n",
       "      <th>get_to_car</th>\n",
       "      <th>get_home</th>\n",
       "    </tr>\n",
       "  </thead>\n",
       "  <tbody>\n",
       "    <tr>\n",
       "      <th>0</th>\n",
       "      <td>16:50</td>\n",
       "      <td>16:51</td>\n",
       "      <td>16:55</td>\n",
       "      <td>17:31</td>\n",
       "      <td>NaN</td>\n",
       "      <td>NaN</td>\n",
       "    </tr>\n",
       "    <tr>\n",
       "      <th>1</th>\n",
       "      <td>16:48</td>\n",
       "      <td>16:50</td>\n",
       "      <td>16:55</td>\n",
       "      <td>17:30</td>\n",
       "      <td>17:34</td>\n",
       "      <td>17:54</td>\n",
       "    </tr>\n",
       "    <tr>\n",
       "      <th>2</th>\n",
       "      <td>16:57</td>\n",
       "      <td>16:59</td>\n",
       "      <td>17:04</td>\n",
       "      <td>17:41</td>\n",
       "      <td>17:45</td>\n",
       "      <td>18:00</td>\n",
       "    </tr>\n",
       "    <tr>\n",
       "      <th>3</th>\n",
       "      <td>16:26</td>\n",
       "      <td>16:27</td>\n",
       "      <td>16:30</td>\n",
       "      <td>17:09</td>\n",
       "      <td>17:13</td>\n",
       "      <td>17:27</td>\n",
       "    </tr>\n",
       "  </tbody>\n",
       "</table>\n",
       "</div>"
      ],
      "text/plain": [
       "  get_on_train get_off_train get_on_blue get_off_blue get_to_car get_home\n",
       "0        16:50         16:51       16:55        17:31        NaN      NaN\n",
       "1        16:48         16:50       16:55        17:30      17:34    17:54\n",
       "2        16:57         16:59       17:04        17:41      17:45    18:00\n",
       "3        16:26         16:27       16:30        17:09      17:13    17:27"
      ]
     },
     "execution_count": 14,
     "metadata": {},
     "output_type": "execute_result"
    }
   ],
   "source": [
    "data.head()"
   ]
  },
  {
   "cell_type": "code",
   "execution_count": 15,
   "metadata": {},
   "outputs": [],
   "source": [
    "lazy=data.copy()"
   ]
  },
  {
   "cell_type": "code",
   "execution_count": 16,
   "metadata": {},
   "outputs": [],
   "source": [
    "lazy.dropna(inplace=True)"
   ]
  },
  {
   "cell_type": "code",
   "execution_count": 17,
   "metadata": {},
   "outputs": [],
   "source": [
    "lazy.reset_index(drop=True,inplace=True)"
   ]
  },
  {
   "cell_type": "code",
   "execution_count": 18,
   "metadata": {},
   "outputs": [
    {
     "data": {
      "text/html": [
       "<div>\n",
       "<style scoped>\n",
       "    .dataframe tbody tr th:only-of-type {\n",
       "        vertical-align: middle;\n",
       "    }\n",
       "\n",
       "    .dataframe tbody tr th {\n",
       "        vertical-align: top;\n",
       "    }\n",
       "\n",
       "    .dataframe thead th {\n",
       "        text-align: right;\n",
       "    }\n",
       "</style>\n",
       "<table border=\"1\" class=\"dataframe\">\n",
       "  <thead>\n",
       "    <tr style=\"text-align: right;\">\n",
       "      <th></th>\n",
       "      <th>get_on_train</th>\n",
       "      <th>get_off_train</th>\n",
       "      <th>get_on_blue</th>\n",
       "      <th>get_off_blue</th>\n",
       "      <th>get_to_car</th>\n",
       "      <th>get_home</th>\n",
       "    </tr>\n",
       "  </thead>\n",
       "  <tbody>\n",
       "    <tr>\n",
       "      <th>0</th>\n",
       "      <td>16:48</td>\n",
       "      <td>16:50</td>\n",
       "      <td>16:55</td>\n",
       "      <td>17:30</td>\n",
       "      <td>17:34</td>\n",
       "      <td>17:54</td>\n",
       "    </tr>\n",
       "    <tr>\n",
       "      <th>1</th>\n",
       "      <td>16:57</td>\n",
       "      <td>16:59</td>\n",
       "      <td>17:04</td>\n",
       "      <td>17:41</td>\n",
       "      <td>17:45</td>\n",
       "      <td>18:00</td>\n",
       "    </tr>\n",
       "    <tr>\n",
       "      <th>2</th>\n",
       "      <td>16:26</td>\n",
       "      <td>16:27</td>\n",
       "      <td>16:30</td>\n",
       "      <td>17:09</td>\n",
       "      <td>17:13</td>\n",
       "      <td>17:27</td>\n",
       "    </tr>\n",
       "  </tbody>\n",
       "</table>\n",
       "</div>"
      ],
      "text/plain": [
       "  get_on_train get_off_train get_on_blue get_off_blue get_to_car get_home\n",
       "0        16:48         16:50       16:55        17:30      17:34    17:54\n",
       "1        16:57         16:59       17:04        17:41      17:45    18:00\n",
       "2        16:26         16:27       16:30        17:09      17:13    17:27"
      ]
     },
     "execution_count": 18,
     "metadata": {},
     "output_type": "execute_result"
    }
   ],
   "source": [
    "lazy"
   ]
  },
  {
   "cell_type": "code",
   "execution_count": 19,
   "metadata": {},
   "outputs": [
    {
     "data": {
      "text/plain": [
       "get_on_train     object\n",
       "get_off_train    object\n",
       "get_on_blue      object\n",
       "get_off_blue     object\n",
       "get_to_car       object\n",
       "get_home         object\n",
       "dtype: object"
      ]
     },
     "execution_count": 19,
     "metadata": {},
     "output_type": "execute_result"
    }
   ],
   "source": [
    "lazy.dtypes"
   ]
  },
  {
   "cell_type": "code",
   "execution_count": 20,
   "metadata": {},
   "outputs": [],
   "source": [
    "#inspiration https://stackoverflow.com/questions/14295673/convert-string-into-datetime-time-object\n",
    "\n",
    "for column in lazy.columns:\n",
    "    lazy[column] = lazy[column].map(lambda x:datetime.datetime.strptime(x,'%H:%M').time() )\n",
    "    \n",
    "    \n",
    "    "
   ]
  },
  {
   "cell_type": "code",
   "execution_count": 21,
   "metadata": {},
   "outputs": [],
   "source": [
    "lazy['time_of_commute']=\"\"\n",
    "\n",
    "for i in range(len(lazy.time_of_commute)):\n",
    "    lazy['time_of_commute'][i]=\\\n",
    "    datetime.datetime.combine(datetime.date.today(),lazy['get_home'][i])-\\\n",
    "    datetime.datetime.combine(datetime.date.today(),lazy['get_on_train'][i])"
   ]
  },
  {
   "cell_type": "code",
   "execution_count": 22,
   "metadata": {},
   "outputs": [],
   "source": [
    "lazy['train_len_red'] = \"\"\n",
    "for i in range(len(lazy.time_of_commute)):\n",
    "    lazy['train_len_red'][i]=\\\n",
    "    datetime.datetime.combine(datetime.date.today(),lazy['get_off_train'][i])-\\\n",
    "    datetime.datetime.combine(datetime.date.today(),lazy['get_on_train'][i])"
   ]
  },
  {
   "cell_type": "code",
   "execution_count": 23,
   "metadata": {},
   "outputs": [],
   "source": [
    "lazy['wait_for_blue'] = \"\"\n",
    "for i in range(len(lazy.time_of_commute)):\n",
    "    lazy['wait_for_blue'][i]=\\\n",
    "    datetime.datetime.combine(datetime.date.today(),lazy['get_on_blue'][i])-\\\n",
    "    datetime.datetime.combine(datetime.date.today(),lazy['get_off_train'][i])"
   ]
  },
  {
   "cell_type": "code",
   "execution_count": 24,
   "metadata": {},
   "outputs": [],
   "source": [
    "lazy['train_len_blue'] = \"\"\n",
    "for i in range(len(lazy.time_of_commute)):\n",
    "    lazy['train_len_blue'][i]=\\\n",
    "    datetime.datetime.combine(datetime.date.today(),lazy['get_off_blue'][i])-\\\n",
    "    datetime.datetime.combine(datetime.date.today(),lazy['get_on_blue'][i])"
   ]
  },
  {
   "cell_type": "code",
   "execution_count": 25,
   "metadata": {},
   "outputs": [],
   "source": [
    "lazy['walk_len'] = \"\"\n",
    "for i in range(len(lazy.time_of_commute)):\n",
    "    lazy['walk_len'][i]=\\\n",
    "    datetime.datetime.combine(datetime.date.today(),lazy['get_to_car'][i])-\\\n",
    "    datetime.datetime.combine(datetime.date.today(),lazy['get_off_blue'][i])"
   ]
  },
  {
   "cell_type": "code",
   "execution_count": 26,
   "metadata": {},
   "outputs": [],
   "source": [
    "lazy['drive_len_home'] = \"\"\n",
    "for i in range(len(lazy.time_of_commute)):\n",
    "    lazy['drive_len_home'][i]=\\\n",
    "    datetime.datetime.combine(datetime.date.today(),lazy['get_home'][i])-\\\n",
    "    datetime.datetime.combine(datetime.date.today(),lazy['get_to_car'][i])"
   ]
  },
  {
   "cell_type": "code",
   "execution_count": 27,
   "metadata": {},
   "outputs": [
    {
     "data": {
      "text/plain": [
       "Index(['get_on_train', 'get_off_train', 'get_on_blue', 'get_off_blue',\n",
       "       'get_to_car', 'get_home', 'time_of_commute', 'train_len_red',\n",
       "       'wait_for_blue', 'train_len_blue', 'walk_len', 'drive_len_home'],\n",
       "      dtype='object')"
      ]
     },
     "execution_count": 27,
     "metadata": {},
     "output_type": "execute_result"
    }
   ],
   "source": [
    "lazy.columns"
   ]
  },
  {
   "cell_type": "code",
   "execution_count": 28,
   "metadata": {},
   "outputs": [],
   "source": [
    "for column in ['time_of_commute', 'train_len_red',\n",
    "       'wait_for_blue', 'train_len_blue', 'walk_len', 'drive_len_home']:\n",
    "    lazy[column] = lazy[column].map(lambda x: x.seconds)"
   ]
  },
  {
   "cell_type": "code",
   "execution_count": 29,
   "metadata": {},
   "outputs": [],
   "source": [
    "for column in ['time_of_commute', 'train_len_red',\n",
    "       'wait_for_blue', 'train_len_blue', 'walk_len', 'drive_len_home']:\n",
    "    lazy[column] = lazy[column].map(lambda x: x/60)"
   ]
  },
  {
   "cell_type": "code",
   "execution_count": 31,
   "metadata": {},
   "outputs": [
    {
     "name": "stdout",
     "output_type": "stream",
     "text": [
      "time_of_commute median is  63.0\n",
      "train_len_red median is  2.0\n",
      "wait_for_blue median is  5.0\n",
      "train_len_blue median is  37.0\n",
      "walk_len median is  4.0\n",
      "drive_len_home median is  15.0\n"
     ]
    }
   ],
   "source": [
    "for column in ['time_of_commute', 'train_len_red',\n",
    "       'wait_for_blue', 'train_len_blue', 'walk_len', 'drive_len_home']:\n",
    "    print(column+\" median is  \"+str(lazy[column].median()))"
   ]
  },
  {
   "cell_type": "code",
   "execution_count": 32,
   "metadata": {},
   "outputs": [],
   "source": [
    "data['get_to_car'][0]=\"17:35\"\n",
    "data['get_home'][0]=\"17:50\""
   ]
  },
  {
   "cell_type": "code",
   "execution_count": 33,
   "metadata": {},
   "outputs": [],
   "source": [
    "#inspiration https://stackoverflow.com/questions/14295673/convert-string-into-datetime-time-object\n",
    "\n",
    "for column in data.columns:\n",
    "    data[column] = data[column].map(lambda x:datetime.datetime.strptime(x,'%H:%M').time() )"
   ]
  },
  {
   "cell_type": "code",
   "execution_count": 45,
   "metadata": {},
   "outputs": [],
   "source": [
    "data['time_of_commute']=\"\"\n",
    "\n",
    "for i in range(len(data.time_of_commute)):\n",
    "    data['time_of_commute'][i]=\\\n",
    "    datetime.datetime.combine(datetime.date.today(),data['get_home'][i])-\\\n",
    "    datetime.datetime.combine(datetime.date.today(),data['get_on_train'][i])"
   ]
  },
  {
   "cell_type": "code",
   "execution_count": 37,
   "metadata": {},
   "outputs": [],
   "source": [
    "data['train_len_red'] = \"\"\n",
    "for i in range(len(data.time_of_commute)):\n",
    "    data['train_len_red'][i]=\\\n",
    "    datetime.datetime.combine(datetime.date.today(),data['get_off_train'][i])-\\\n",
    "    datetime.datetime.combine(datetime.date.today(),data['get_on_train'][i])"
   ]
  },
  {
   "cell_type": "code",
   "execution_count": 38,
   "metadata": {},
   "outputs": [],
   "source": [
    "data['wait_for_blue'] = \"\"\n",
    "for i in range(len(data.time_of_commute)):\n",
    "    data['wait_for_blue'][i]=\\\n",
    "    datetime.datetime.combine(datetime.date.today(),data['get_on_blue'][i])-\\\n",
    "    datetime.datetime.combine(datetime.date.today(),data['get_off_train'][i])"
   ]
  },
  {
   "cell_type": "code",
   "execution_count": 39,
   "metadata": {},
   "outputs": [],
   "source": [
    "data['train_len_blue'] = \"\"\n",
    "for i in range(len(data.time_of_commute)):\n",
    "    data['train_len_blue'][i]=\\\n",
    "    datetime.datetime.combine(datetime.date.today(),data['get_off_blue'][i])-\\\n",
    "    datetime.datetime.combine(datetime.date.today(),data['get_on_blue'][i])"
   ]
  },
  {
   "cell_type": "code",
   "execution_count": 43,
   "metadata": {},
   "outputs": [],
   "source": [
    "data['walk_len'] = \"\"\n",
    "for i in range(len(data.time_of_commute)):\n",
    "    data['walk_len'][i]=\\\n",
    "    datetime.datetime.combine(datetime.date.today(),data['get_to_car'][i])-\\\n",
    "    datetime.datetime.combine(datetime.date.today(),data['get_off_blue'][i])"
   ]
  },
  {
   "cell_type": "code",
   "execution_count": 41,
   "metadata": {},
   "outputs": [],
   "source": [
    "data['drive_len_home'] = \"\"\n",
    "for i in range(len(data.time_of_commute)):\n",
    "    data['drive_len_home'][i]=\\\n",
    "    datetime.datetime.combine(datetime.date.today(),data['get_home'][i])-\\\n",
    "    datetime.datetime.combine(datetime.date.today(),data['get_to_car'][i])"
   ]
  },
  {
   "cell_type": "code",
   "execution_count": 46,
   "metadata": {},
   "outputs": [
    {
     "data": {
      "text/html": [
       "<div>\n",
       "<style scoped>\n",
       "    .dataframe tbody tr th:only-of-type {\n",
       "        vertical-align: middle;\n",
       "    }\n",
       "\n",
       "    .dataframe tbody tr th {\n",
       "        vertical-align: top;\n",
       "    }\n",
       "\n",
       "    .dataframe thead th {\n",
       "        text-align: right;\n",
       "    }\n",
       "</style>\n",
       "<table border=\"1\" class=\"dataframe\">\n",
       "  <thead>\n",
       "    <tr style=\"text-align: right;\">\n",
       "      <th></th>\n",
       "      <th>get_on_train</th>\n",
       "      <th>get_off_train</th>\n",
       "      <th>get_on_blue</th>\n",
       "      <th>get_off_blue</th>\n",
       "      <th>get_to_car</th>\n",
       "      <th>get_home</th>\n",
       "      <th>time_of_commute</th>\n",
       "      <th>train_len_red</th>\n",
       "      <th>wait_for_blue</th>\n",
       "      <th>train_len_blue</th>\n",
       "      <th>walk_len</th>\n",
       "      <th>drive_len_home</th>\n",
       "    </tr>\n",
       "  </thead>\n",
       "  <tbody>\n",
       "    <tr>\n",
       "      <th>0</th>\n",
       "      <td>16:50:00</td>\n",
       "      <td>16:51:00</td>\n",
       "      <td>16:55:00</td>\n",
       "      <td>17:31:00</td>\n",
       "      <td>17:35:00</td>\n",
       "      <td>17:50:00</td>\n",
       "      <td>1:00:00</td>\n",
       "      <td>0:01:00</td>\n",
       "      <td>0:04:00</td>\n",
       "      <td>0:36:00</td>\n",
       "      <td>0:04:00</td>\n",
       "      <td>0:15:00</td>\n",
       "    </tr>\n",
       "    <tr>\n",
       "      <th>1</th>\n",
       "      <td>16:48:00</td>\n",
       "      <td>16:50:00</td>\n",
       "      <td>16:55:00</td>\n",
       "      <td>17:30:00</td>\n",
       "      <td>17:34:00</td>\n",
       "      <td>17:54:00</td>\n",
       "      <td>1:06:00</td>\n",
       "      <td>0:02:00</td>\n",
       "      <td>0:05:00</td>\n",
       "      <td>0:35:00</td>\n",
       "      <td>0:04:00</td>\n",
       "      <td>0:20:00</td>\n",
       "    </tr>\n",
       "    <tr>\n",
       "      <th>2</th>\n",
       "      <td>16:57:00</td>\n",
       "      <td>16:59:00</td>\n",
       "      <td>17:04:00</td>\n",
       "      <td>17:41:00</td>\n",
       "      <td>17:45:00</td>\n",
       "      <td>18:00:00</td>\n",
       "      <td>1:03:00</td>\n",
       "      <td>0:02:00</td>\n",
       "      <td>0:05:00</td>\n",
       "      <td>0:37:00</td>\n",
       "      <td>0:04:00</td>\n",
       "      <td>0:15:00</td>\n",
       "    </tr>\n",
       "    <tr>\n",
       "      <th>3</th>\n",
       "      <td>16:26:00</td>\n",
       "      <td>16:27:00</td>\n",
       "      <td>16:30:00</td>\n",
       "      <td>17:09:00</td>\n",
       "      <td>17:13:00</td>\n",
       "      <td>17:27:00</td>\n",
       "      <td>1:01:00</td>\n",
       "      <td>0:01:00</td>\n",
       "      <td>0:03:00</td>\n",
       "      <td>0:39:00</td>\n",
       "      <td>0:04:00</td>\n",
       "      <td>0:14:00</td>\n",
       "    </tr>\n",
       "  </tbody>\n",
       "</table>\n",
       "</div>"
      ],
      "text/plain": [
       "  get_on_train get_off_train get_on_blue get_off_blue get_to_car  get_home  \\\n",
       "0     16:50:00      16:51:00    16:55:00     17:31:00   17:35:00  17:50:00   \n",
       "1     16:48:00      16:50:00    16:55:00     17:30:00   17:34:00  17:54:00   \n",
       "2     16:57:00      16:59:00    17:04:00     17:41:00   17:45:00  18:00:00   \n",
       "3     16:26:00      16:27:00    16:30:00     17:09:00   17:13:00  17:27:00   \n",
       "\n",
       "  time_of_commute train_len_red wait_for_blue train_len_blue walk_len  \\\n",
       "0         1:00:00       0:01:00       0:04:00        0:36:00  0:04:00   \n",
       "1         1:06:00       0:02:00       0:05:00        0:35:00  0:04:00   \n",
       "2         1:03:00       0:02:00       0:05:00        0:37:00  0:04:00   \n",
       "3         1:01:00       0:01:00       0:03:00        0:39:00  0:04:00   \n",
       "\n",
       "  drive_len_home  \n",
       "0        0:15:00  \n",
       "1        0:20:00  \n",
       "2        0:15:00  \n",
       "3        0:14:00  "
      ]
     },
     "execution_count": 46,
     "metadata": {},
     "output_type": "execute_result"
    }
   ],
   "source": [
    "data"
   ]
  },
  {
   "cell_type": "code",
   "execution_count": 47,
   "metadata": {},
   "outputs": [],
   "source": [
    "for column in ['time_of_commute', 'train_len_red',\n",
    "       'wait_for_blue', 'train_len_blue', 'walk_len', 'drive_len_home']:\n",
    "    data[column] = data[column].map(lambda x: x.seconds)"
   ]
  },
  {
   "cell_type": "code",
   "execution_count": 48,
   "metadata": {},
   "outputs": [],
   "source": [
    "for column in ['time_of_commute', 'train_len_red',\n",
    "       'wait_for_blue', 'train_len_blue', 'walk_len', 'drive_len_home']:\n",
    "    data[column] = data[column].map(lambda x: x/60)"
   ]
  },
  {
   "cell_type": "code",
   "execution_count": 54,
   "metadata": {},
   "outputs": [
    {
     "data": {
      "text/html": [
       "<div>\n",
       "<style scoped>\n",
       "    .dataframe tbody tr th:only-of-type {\n",
       "        vertical-align: middle;\n",
       "    }\n",
       "\n",
       "    .dataframe tbody tr th {\n",
       "        vertical-align: top;\n",
       "    }\n",
       "\n",
       "    .dataframe thead th {\n",
       "        text-align: right;\n",
       "    }\n",
       "</style>\n",
       "<table border=\"1\" class=\"dataframe\">\n",
       "  <thead>\n",
       "    <tr style=\"text-align: right;\">\n",
       "      <th></th>\n",
       "      <th>get_on_train</th>\n",
       "      <th>get_off_train</th>\n",
       "      <th>get_on_blue</th>\n",
       "      <th>get_off_blue</th>\n",
       "      <th>get_to_car</th>\n",
       "      <th>get_home</th>\n",
       "      <th>time_of_commute</th>\n",
       "      <th>train_len_red</th>\n",
       "      <th>wait_for_blue</th>\n",
       "      <th>train_len_blue</th>\n",
       "      <th>walk_len</th>\n",
       "      <th>drive_len_home</th>\n",
       "    </tr>\n",
       "  </thead>\n",
       "  <tbody>\n",
       "    <tr>\n",
       "      <th>0</th>\n",
       "      <td>16:50:00</td>\n",
       "      <td>16:51:00</td>\n",
       "      <td>16:55:00</td>\n",
       "      <td>17:31:00</td>\n",
       "      <td>17:35:00</td>\n",
       "      <td>17:50:00</td>\n",
       "      <td>60.0</td>\n",
       "      <td>1.0</td>\n",
       "      <td>4.0</td>\n",
       "      <td>36.0</td>\n",
       "      <td>4.0</td>\n",
       "      <td>15.0</td>\n",
       "    </tr>\n",
       "    <tr>\n",
       "      <th>1</th>\n",
       "      <td>16:48:00</td>\n",
       "      <td>16:50:00</td>\n",
       "      <td>16:55:00</td>\n",
       "      <td>17:30:00</td>\n",
       "      <td>17:34:00</td>\n",
       "      <td>17:54:00</td>\n",
       "      <td>66.0</td>\n",
       "      <td>2.0</td>\n",
       "      <td>5.0</td>\n",
       "      <td>35.0</td>\n",
       "      <td>4.0</td>\n",
       "      <td>20.0</td>\n",
       "    </tr>\n",
       "    <tr>\n",
       "      <th>2</th>\n",
       "      <td>16:57:00</td>\n",
       "      <td>16:59:00</td>\n",
       "      <td>17:04:00</td>\n",
       "      <td>17:41:00</td>\n",
       "      <td>17:45:00</td>\n",
       "      <td>18:00:00</td>\n",
       "      <td>63.0</td>\n",
       "      <td>2.0</td>\n",
       "      <td>5.0</td>\n",
       "      <td>37.0</td>\n",
       "      <td>4.0</td>\n",
       "      <td>15.0</td>\n",
       "    </tr>\n",
       "    <tr>\n",
       "      <th>3</th>\n",
       "      <td>16:26:00</td>\n",
       "      <td>16:27:00</td>\n",
       "      <td>16:30:00</td>\n",
       "      <td>17:09:00</td>\n",
       "      <td>17:13:00</td>\n",
       "      <td>17:27:00</td>\n",
       "      <td>61.0</td>\n",
       "      <td>1.0</td>\n",
       "      <td>3.0</td>\n",
       "      <td>39.0</td>\n",
       "      <td>4.0</td>\n",
       "      <td>14.0</td>\n",
       "    </tr>\n",
       "  </tbody>\n",
       "</table>\n",
       "</div>"
      ],
      "text/plain": [
       "  get_on_train get_off_train get_on_blue get_off_blue get_to_car  get_home  \\\n",
       "0     16:50:00      16:51:00    16:55:00     17:31:00   17:35:00  17:50:00   \n",
       "1     16:48:00      16:50:00    16:55:00     17:30:00   17:34:00  17:54:00   \n",
       "2     16:57:00      16:59:00    17:04:00     17:41:00   17:45:00  18:00:00   \n",
       "3     16:26:00      16:27:00    16:30:00     17:09:00   17:13:00  17:27:00   \n",
       "\n",
       "   time_of_commute  train_len_red  wait_for_blue  train_len_blue  walk_len  \\\n",
       "0             60.0            1.0            4.0            36.0       4.0   \n",
       "1             66.0            2.0            5.0            35.0       4.0   \n",
       "2             63.0            2.0            5.0            37.0       4.0   \n",
       "3             61.0            1.0            3.0            39.0       4.0   \n",
       "\n",
       "   drive_len_home  \n",
       "0            15.0  \n",
       "1            20.0  \n",
       "2            15.0  \n",
       "3            14.0  "
      ]
     },
     "execution_count": 54,
     "metadata": {},
     "output_type": "execute_result"
    }
   ],
   "source": [
    "data"
   ]
  },
  {
   "cell_type": "code",
   "execution_count": 49,
   "metadata": {},
   "outputs": [
    {
     "name": "stdout",
     "output_type": "stream",
     "text": [
      "time_of_commute median is  62.0\n",
      "train_len_red median is  1.5\n",
      "wait_for_blue median is  4.5\n",
      "train_len_blue median is  36.5\n",
      "walk_len median is  4.0\n",
      "drive_len_home median is  15.0\n"
     ]
    }
   ],
   "source": [
    "for column in ['time_of_commute', 'train_len_red',\n",
    "       'wait_for_blue', 'train_len_blue', 'walk_len', 'drive_len_home']:\n",
    "    print(column+\" median is  \"+str(data[column].median()))"
   ]
  },
  {
   "cell_type": "code",
   "execution_count": 64,
   "metadata": {},
   "outputs": [
    {
     "name": "stdout",
     "output_type": "stream",
     "text": [
      "time_of_commute mean is  62.5\n",
      "train_len_red mean is  1.5\n",
      "wait_for_blue mean is  4.25\n",
      "train_len_blue mean is  36.75\n",
      "walk_len mean is  4.0\n",
      "drive_len_home mean is  16.0\n"
     ]
    }
   ],
   "source": [
    "for column in ['time_of_commute', 'train_len_red',\n",
    "       'wait_for_blue', 'train_len_blue', 'walk_len', 'drive_len_home']:\n",
    "    print(column+\" mean is  \"+str(data[column].mean()))"
   ]
  },
  {
   "cell_type": "code",
   "execution_count": 53,
   "metadata": {},
   "outputs": [
    {
     "name": "stdout",
     "output_type": "stream",
     "text": [
      "time_of_commute standard deviation is  2.65\n",
      "train_len_red standard deviation is  0.58\n",
      "wait_for_blue standard deviation is  0.96\n",
      "train_len_blue standard deviation is  1.71\n",
      "walk_len standard deviation is  0.0\n",
      "drive_len_home standard deviation is  2.71\n"
     ]
    }
   ],
   "source": [
    "for column in ['time_of_commute', 'train_len_red',\n",
    "       'wait_for_blue', 'train_len_blue', 'walk_len', 'drive_len_home']:\n",
    "    print(column+\" standard deviation is  \"+str(round(data[column].std(),2)))"
   ]
  },
  {
   "cell_type": "code",
   "execution_count": 67,
   "metadata": {},
   "outputs": [],
   "source": [
    "def confidence_interval(listy):\n",
    "    average = listy.mean()\n",
    "    z=1.96\n",
    "    n=len(listy)\n",
    "    \n",
    "    std = listy.std()\n",
    "    print(std)\n",
    "    \n",
    "    return (average+1.96*(std/(n**0.5)),average-1.96*(std/(n**0.5)))"
   ]
  },
  {
   "cell_type": "code",
   "execution_count": 68,
   "metadata": {},
   "outputs": [
    {
     "name": "stdout",
     "output_type": "stream",
     "text": [
      "2.6457513110645907\n"
     ]
    },
    {
     "data": {
      "text/plain": [
       "(65.0928362848433, 59.9071637151567)"
      ]
     },
     "execution_count": 68,
     "metadata": {},
     "output_type": "execute_result"
    }
   ],
   "source": [
    "confidence_interval(data['time_of_commute'])"
   ]
  },
  {
   "cell_type": "code",
   "execution_count": 62,
   "metadata": {},
   "outputs": [
    {
     "data": {
      "text/plain": [
       "(62.5, 2.6457513110645907, 4)"
      ]
     },
     "execution_count": 62,
     "metadata": {},
     "output_type": "execute_result"
    }
   ],
   "source": [
    "data['time_of_commute'].mean(),data['time_of_commute'].std(),len(data['time_of_commute'])"
   ]
  },
  {
   "cell_type": "code",
   "execution_count": 63,
   "metadata": {},
   "outputs": [
    {
     "data": {
      "text/plain": [
       "Ttest_indResult(statistic=-4.006811830156987, pvalue=0.0011464308811878615)"
      ]
     },
     "execution_count": 63,
     "metadata": {},
     "output_type": "execute_result"
    }
   ],
   "source": [
    "#from previous part\n",
    "#time of commute mean, std, and len\n",
    "#(73.92307692307692, 9.105506927692517, 13)\n",
    "\n",
    "\n",
    "ttest_ind_from_stats(62.5, 2.6457513110645907, 4,\n",
    "                     73.92307692307692, 9.105506927692517, 13,\n",
    "                     equal_var=False\n",
    "                    )"
   ]
  },
  {
   "cell_type": "code",
   "execution_count": null,
   "metadata": {},
   "outputs": [],
   "source": []
  }
 ],
 "metadata": {
  "kernelspec": {
   "display_name": "Python 3",
   "language": "python",
   "name": "python3"
  },
  "language_info": {
   "codemirror_mode": {
    "name": "ipython",
    "version": 3
   },
   "file_extension": ".py",
   "mimetype": "text/x-python",
   "name": "python",
   "nbconvert_exporter": "python",
   "pygments_lexer": "ipython3",
   "version": "3.6.8"
  }
 },
 "nbformat": 4,
 "nbformat_minor": 2
}
